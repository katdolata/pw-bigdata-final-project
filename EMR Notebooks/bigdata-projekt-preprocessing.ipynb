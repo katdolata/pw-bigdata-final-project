{
 "cells": [
  {
   "cell_type": "code",
   "execution_count": 1,
   "id": "c584ae6a-93c4-48b4-93bc-ccf2fe8789f5",
   "metadata": {
    "execution": {
     "iopub.execute_input": "2023-01-28T18:40:51.679384Z",
     "iopub.status.busy": "2023-01-28T18:40:51.679158Z",
     "iopub.status.idle": "2023-01-28T18:41:18.405666Z",
     "shell.execute_reply": "2023-01-28T18:41:18.405096Z",
     "shell.execute_reply.started": "2023-01-28T18:40:51.679359Z"
    },
    "tags": []
   },
   "outputs": [
    {
     "data": {
      "application/vnd.jupyter.widget-view+json": {
       "model_id": "8b380f04c5c64413ace532a6fc1022ea",
       "version_major": 2,
       "version_minor": 0
      },
      "text/plain": [
       "VBox()"
      ]
     },
     "metadata": {},
     "output_type": "display_data"
    },
    {
     "name": "stdout",
     "output_type": "stream",
     "text": [
      "Starting Spark application\n"
     ]
    },
    {
     "data": {
      "text/html": [
       "<table>\n",
       "<tr><th>ID</th><th>YARN Application ID</th><th>Kind</th><th>State</th><th>Spark UI</th><th>Driver log</th><th>User</th><th>Current session?</th></tr><tr><td>2</td><td>application_1674925261980_0003</td><td>pyspark</td><td>idle</td><td><a target=\"_blank\" href=\"http://ip-172-31-78-223.ec2.internal:20888/proxy/application_1674925261980_0003/\" class=\"emr-proxy-link\" emr-resource=\"j-2B06Z7J1FI7QB\n",
       "\" application-id=\"application_1674925261980_0003\">Link</a></td><td><a target=\"_blank\" href=\"http://ip-172-31-78-223.ec2.internal:8042/node/containerlogs/container_1674925261980_0003_01_000001/livy\" >Link</a></td><td>None</td><td>✔</td></tr></table>"
      ],
      "text/plain": [
       "<IPython.core.display.HTML object>"
      ]
     },
     "metadata": {},
     "output_type": "display_data"
    },
    {
     "data": {
      "application/vnd.jupyter.widget-view+json": {
       "model_id": "",
       "version_major": 2,
       "version_minor": 0
      },
      "text/plain": [
       "FloatProgress(value=0.0, bar_style='info', description='Progress:', layout=Layout(height='25px', width='50%'),…"
      ]
     },
     "metadata": {},
     "output_type": "display_data"
    },
    {
     "name": "stdout",
     "output_type": "stream",
     "text": [
      "SparkSession available as 'spark'.\n"
     ]
    },
    {
     "data": {
      "application/vnd.jupyter.widget-view+json": {
       "model_id": "",
       "version_major": 2,
       "version_minor": 0
      },
      "text/plain": [
       "FloatProgress(value=0.0, bar_style='info', description='Progress:', layout=Layout(height='25px', width='50%'),…"
      ]
     },
     "metadata": {},
     "output_type": "display_data"
    }
   ],
   "source": [
    "from pyspark.sql import SparkSession\n",
    "\n",
    "spark = SparkSession.builder.getOrCreate()"
   ]
  },
  {
   "cell_type": "code",
   "execution_count": 2,
   "id": "d90de327-7860-4f06-b2a5-f90a08b3fed0",
   "metadata": {
    "execution": {
     "iopub.execute_input": "2023-01-28T18:41:18.407434Z",
     "iopub.status.busy": "2023-01-28T18:41:18.407250Z",
     "iopub.status.idle": "2023-01-28T18:41:18.682900Z",
     "shell.execute_reply": "2023-01-28T18:41:18.682103Z",
     "shell.execute_reply.started": "2023-01-28T18:41:18.407411Z"
    },
    "tags": []
   },
   "outputs": [
    {
     "data": {
      "application/vnd.jupyter.widget-view+json": {
       "model_id": "d2544d75a405445cb92a4243bbef2b3e",
       "version_major": 2,
       "version_minor": 0
      },
      "text/plain": [
       "VBox()"
      ]
     },
     "metadata": {},
     "output_type": "display_data"
    },
    {
     "data": {
      "application/vnd.jupyter.widget-view+json": {
       "model_id": "",
       "version_major": 2,
       "version_minor": 0
      },
      "text/plain": [
       "FloatProgress(value=0.0, bar_style='info', description='Progress:', layout=Layout(height='25px', width='50%'),…"
      ]
     },
     "metadata": {},
     "output_type": "display_data"
    }
   ],
   "source": [
    "from pyspark.sql.types import *\n",
    "from pyspark.sql.functions import col, udf, when, isnull, split"
   ]
  },
  {
   "cell_type": "code",
   "execution_count": 3,
   "id": "0fcf652d-cad7-431d-958d-a2c88f81bdc4",
   "metadata": {
    "execution": {
     "iopub.execute_input": "2023-01-28T18:41:18.684920Z",
     "iopub.status.busy": "2023-01-28T18:41:18.684640Z",
     "iopub.status.idle": "2023-01-28T18:41:18.769247Z",
     "shell.execute_reply": "2023-01-28T18:41:18.768473Z",
     "shell.execute_reply.started": "2023-01-28T18:41:18.684883Z"
    },
    "tags": []
   },
   "outputs": [
    {
     "data": {
      "application/vnd.jupyter.widget-view+json": {
       "model_id": "b8b1a0d62aa6420f816a15eac26e00a9",
       "version_major": 2,
       "version_minor": 0
      },
      "text/plain": [
       "VBox()"
      ]
     },
     "metadata": {},
     "output_type": "display_data"
    },
    {
     "data": {
      "application/vnd.jupyter.widget-view+json": {
       "model_id": "",
       "version_major": 2,
       "version_minor": 0
      },
      "text/plain": [
       "FloatProgress(value=0.0, bar_style='info', description='Progress:', layout=Layout(height='25px', width='50%'),…"
      ]
     },
     "metadata": {},
     "output_type": "display_data"
    }
   ],
   "source": [
    "# insert the URI to the location of the raw XML files on S3\n",
    "s3BucketURI = \"\""
   ]
  },
  {
   "cell_type": "markdown",
   "id": "1d4603b8-1ccd-4476-945d-24ed75b8c842",
   "metadata": {},
   "source": [
    "# Loading XML files to Spark DataFrames and cleaning up column names and order"
   ]
  },
  {
   "cell_type": "code",
   "execution_count": 4,
   "id": "edd6aff5-385b-4a0c-aa96-a9770ae66c33",
   "metadata": {
    "execution": {
     "iopub.execute_input": "2023-01-28T18:41:18.771075Z",
     "iopub.status.busy": "2023-01-28T18:41:18.770696Z",
     "iopub.status.idle": "2023-01-28T18:41:32.162032Z",
     "shell.execute_reply": "2023-01-28T18:41:32.161459Z",
     "shell.execute_reply.started": "2023-01-28T18:41:18.771037Z"
    },
    "tags": []
   },
   "outputs": [
    {
     "data": {
      "application/vnd.jupyter.widget-view+json": {
       "model_id": "f80bf9fd606e4eaf8d2bcdf852811e09",
       "version_major": 2,
       "version_minor": 0
      },
      "text/plain": [
       "VBox()"
      ]
     },
     "metadata": {},
     "output_type": "display_data"
    },
    {
     "data": {
      "application/vnd.jupyter.widget-view+json": {
       "model_id": "",
       "version_major": 2,
       "version_minor": 0
      },
      "text/plain": [
       "FloatProgress(value=0.0, bar_style='info', description='Progress:', layout=Layout(height='25px', width='50%'),…"
      ]
     },
     "metadata": {},
     "output_type": "display_data"
    }
   ],
   "source": [
    "badgesFile = \"Badges.xml\"\n",
    "\n",
    "dfBadges = spark.read.format('xml').options(rootTag='badges').options(rowTag='row').load(s3BucketURI + badgesFile)\n",
    "\n",
    "dfBadges = dfBadges.select(\n",
    "    col('_Id').alias('ID'), \n",
    "    col('_UserId').alias('UserID'),\n",
    "    col('_Name').alias('Name'),\n",
    "    col('_Date').alias('Date'),\n",
    "    col('_Class').alias('Class'),\n",
    "    col('_TagBased').alias('TagBased'))"
   ]
  },
  {
   "cell_type": "code",
   "execution_count": 5,
   "id": "f4d16bdc-01e3-4f91-b712-7de9fb3ce07e",
   "metadata": {
    "execution": {
     "iopub.execute_input": "2023-01-28T18:41:32.163212Z",
     "iopub.status.busy": "2023-01-28T18:41:32.163016Z",
     "iopub.status.idle": "2023-01-28T18:41:37.471739Z",
     "shell.execute_reply": "2023-01-28T18:41:37.471101Z",
     "shell.execute_reply.started": "2023-01-28T18:41:32.163189Z"
    },
    "tags": []
   },
   "outputs": [
    {
     "data": {
      "application/vnd.jupyter.widget-view+json": {
       "model_id": "b9748c30884141f38600909d3c10eca6",
       "version_major": 2,
       "version_minor": 0
      },
      "text/plain": [
       "VBox()"
      ]
     },
     "metadata": {},
     "output_type": "display_data"
    },
    {
     "data": {
      "application/vnd.jupyter.widget-view+json": {
       "model_id": "",
       "version_major": 2,
       "version_minor": 0
      },
      "text/plain": [
       "FloatProgress(value=0.0, bar_style='info', description='Progress:', layout=Layout(height='25px', width='50%'),…"
      ]
     },
     "metadata": {},
     "output_type": "display_data"
    }
   ],
   "source": [
    "commentsFile = \"Comments.xml\"\n",
    "\n",
    "dfComments = spark.read.format('xml').options(rootTag='comments').options(rowTag='row').load(s3BucketURI + commentsFile)\n",
    "\n",
    "dfComments = dfComments.select(\n",
    "    col('_Id').alias('ID'), \n",
    "    col('_PostId').alias('PostID'),\n",
    "    col('_Score').alias('Score'),\n",
    "    col('_Text').alias('Text'),\n",
    "    col('_CreationDate').alias('CreationDate'),\n",
    "    col('_UserDisplayName').alias('UserDisplayName'),\n",
    "    col('_UserId').alias('UserID'),\n",
    "    col('_ContentLicense').alias('ContentLicense'))"
   ]
  },
  {
   "cell_type": "code",
   "execution_count": 6,
   "id": "95075e58-b677-4076-8117-607255fd421d",
   "metadata": {
    "execution": {
     "iopub.execute_input": "2023-01-28T18:41:37.472859Z",
     "iopub.status.busy": "2023-01-28T18:41:37.472679Z",
     "iopub.status.idle": "2023-01-28T18:41:52.813370Z",
     "shell.execute_reply": "2023-01-28T18:41:52.812786Z",
     "shell.execute_reply.started": "2023-01-28T18:41:37.472836Z"
    },
    "tags": []
   },
   "outputs": [
    {
     "data": {
      "application/vnd.jupyter.widget-view+json": {
       "model_id": "7655cad5cb4246df97034ff0b6b8539a",
       "version_major": 2,
       "version_minor": 0
      },
      "text/plain": [
       "VBox()"
      ]
     },
     "metadata": {},
     "output_type": "display_data"
    },
    {
     "data": {
      "application/vnd.jupyter.widget-view+json": {
       "model_id": "",
       "version_major": 2,
       "version_minor": 0
      },
      "text/plain": [
       "FloatProgress(value=0.0, bar_style='info', description='Progress:', layout=Layout(height='25px', width='50%'),…"
      ]
     },
     "metadata": {},
     "output_type": "display_data"
    }
   ],
   "source": [
    "postHistoryFile = \"PostHistory.xml\"\n",
    "\n",
    "dfPostHistory = spark.read.format('xml').options(rootTag='posthistory').options(rowTag='row').load(s3BucketURI + postHistoryFile)\n",
    "\n",
    "dfPostHistory = dfPostHistory.select(\n",
    "    col('_Id').alias('ID'), \n",
    "    col('_PostHistoryTypeId').alias('PostHistoryTypeId'),\n",
    "    col('_PostId').alias('PostID'),\n",
    "    col('_RevisionGUID').alias('RevisionGUID'),\n",
    "    col('_CreationDate').alias('CreationDate'),\n",
    "    col('_UserId').alias('UserID'),\n",
    "    col('_UserDisplayName').alias('UserDisplayName'),\n",
    "    col('_Comment').alias('Comment'),\n",
    "    col('_Text').alias('Text'),\n",
    "    col('_ContentLicense').alias('ContentLicense'))"
   ]
  },
  {
   "cell_type": "code",
   "execution_count": 7,
   "id": "02d065b3-ba8f-4b3a-bd4c-f6dde8ee4435",
   "metadata": {
    "execution": {
     "iopub.execute_input": "2023-01-28T18:41:52.814671Z",
     "iopub.status.busy": "2023-01-28T18:41:52.814374Z",
     "iopub.status.idle": "2023-01-28T18:41:53.602859Z",
     "shell.execute_reply": "2023-01-28T18:41:53.602195Z",
     "shell.execute_reply.started": "2023-01-28T18:41:52.814622Z"
    },
    "tags": []
   },
   "outputs": [
    {
     "data": {
      "application/vnd.jupyter.widget-view+json": {
       "model_id": "f4d1f20614f5487eaed2dc225cfeb422",
       "version_major": 2,
       "version_minor": 0
      },
      "text/plain": [
       "VBox()"
      ]
     },
     "metadata": {},
     "output_type": "display_data"
    },
    {
     "data": {
      "application/vnd.jupyter.widget-view+json": {
       "model_id": "",
       "version_major": 2,
       "version_minor": 0
      },
      "text/plain": [
       "FloatProgress(value=0.0, bar_style='info', description='Progress:', layout=Layout(height='25px', width='50%'),…"
      ]
     },
     "metadata": {},
     "output_type": "display_data"
    }
   ],
   "source": [
    "postLinksFile = \"PostLinks.xml\"\n",
    "\n",
    "dfPostLinks = spark.read.format('xml').options(rootTag='postlinks').options(rowTag='row').load(s3BucketURI + postLinksFile)\n",
    "\n",
    "dfPostLinks = dfPostLinks.select(\n",
    "    col('_Id').alias('ID'),\n",
    "    col('_CreationDate').alias('CreationDate'),\n",
    "    col('_PostId').alias('PostID'),\n",
    "    col('_RelatedPostId').alias('RelatedPostID'),\n",
    "    col('_LinkTypeId').alias('LinkTypeID'))"
   ]
  },
  {
   "cell_type": "code",
   "execution_count": 8,
   "id": "295f5674-9cc8-4ab0-b7c7-cadbc8ab4298",
   "metadata": {
    "execution": {
     "iopub.execute_input": "2023-01-28T18:41:53.605764Z",
     "iopub.status.busy": "2023-01-28T18:41:53.605574Z",
     "iopub.status.idle": "2023-01-28T18:42:00.925892Z",
     "shell.execute_reply": "2023-01-28T18:42:00.925113Z",
     "shell.execute_reply.started": "2023-01-28T18:41:53.605741Z"
    },
    "tags": []
   },
   "outputs": [
    {
     "data": {
      "application/vnd.jupyter.widget-view+json": {
       "model_id": "686d2fa1b10046239cfa11716e81db19",
       "version_major": 2,
       "version_minor": 0
      },
      "text/plain": [
       "VBox()"
      ]
     },
     "metadata": {},
     "output_type": "display_data"
    },
    {
     "data": {
      "application/vnd.jupyter.widget-view+json": {
       "model_id": "",
       "version_major": 2,
       "version_minor": 0
      },
      "text/plain": [
       "FloatProgress(value=0.0, bar_style='info', description='Progress:', layout=Layout(height='25px', width='50%'),…"
      ]
     },
     "metadata": {},
     "output_type": "display_data"
    }
   ],
   "source": [
    "postsFile = \"Posts.xml\"\n",
    "\n",
    "dfPosts = spark.read.format('xml').options(rootTag='posts').options(rowTag='row').load(s3BucketURI + postsFile)\n",
    "\n",
    "dfPosts = dfPosts.select(\n",
    "    col('_Id').alias('ID'), \n",
    "    col('_PostTypeId').alias('PostTypeID'),\n",
    "    col('_AcceptedAnswerId').alias('AcceptedAnswerID'),\n",
    "    col('_ParentId').alias('ParentID'),\n",
    "    col('_CreationDate').alias('CreationDate'),\n",
    "    col('_Score').alias('Score'),\n",
    "    col('_ViewCount').alias('ViewCount'),\n",
    "    col('_Body').alias('Body'),\n",
    "    col('_OwnerUserId').alias('OwnerUserID'),\n",
    "    col('_OwnerDisplayName').alias('OwnerDisplayName'),\n",
    "    col('_LastEditorUserId').alias('LastEditorUserID'),\n",
    "    col('_LastEditorDisplayName').alias('LastEditorDisplayName'),\n",
    "    col('_LastEditDate').alias('LastEditDate'),\n",
    "    col('_LastActivityDate').alias('LastActivityDate'),\n",
    "    col('_Title').alias('Title'),\n",
    "    col('_Tags').alias('Tags'),\n",
    "    col('_AnswerCount').alias('AnswerCount'),\n",
    "    col('_CommentCount').alias('CommentCount'),\n",
    "    col('_FavoriteCount').alias('FavoriteCount'),\n",
    "    col('_ClosedDate').alias('ClosedDate'),\n",
    "    col('_CommunityOwnedDate').alias('CommunityOwnedDate'),\n",
    "    col('_ContentLicense').alias('ContentLicense'))"
   ]
  },
  {
   "cell_type": "code",
   "execution_count": 9,
   "id": "8afa7659-1033-4840-9233-f518a68d3638",
   "metadata": {
    "execution": {
     "iopub.execute_input": "2023-01-28T18:42:00.927983Z",
     "iopub.status.busy": "2023-01-28T18:42:00.927708Z",
     "iopub.status.idle": "2023-01-28T18:42:01.712881Z",
     "shell.execute_reply": "2023-01-28T18:42:01.712157Z",
     "shell.execute_reply.started": "2023-01-28T18:42:00.927945Z"
    },
    "tags": []
   },
   "outputs": [
    {
     "data": {
      "application/vnd.jupyter.widget-view+json": {
       "model_id": "1a139f9321a44f329265792163756e7a",
       "version_major": 2,
       "version_minor": 0
      },
      "text/plain": [
       "VBox()"
      ]
     },
     "metadata": {},
     "output_type": "display_data"
    },
    {
     "data": {
      "application/vnd.jupyter.widget-view+json": {
       "model_id": "",
       "version_major": 2,
       "version_minor": 0
      },
      "text/plain": [
       "FloatProgress(value=0.0, bar_style='info', description='Progress:', layout=Layout(height='25px', width='50%'),…"
      ]
     },
     "metadata": {},
     "output_type": "display_data"
    }
   ],
   "source": [
    "tagsFile = \"Tags.xml\"\n",
    "\n",
    "dfTags = spark.read.format('xml').options(rootTag='tags').options(rowTag='row').load(s3BucketURI + tagsFile)\n",
    "\n",
    "dfTags = dfTags.select(\n",
    "    col('_Id').alias('ID'),\n",
    "    col('_TagName').alias('TagName'),\n",
    "    col('_Count').alias('Count'),\n",
    "    col('_ExcerptPostId').alias('ExcerptPostID'),\n",
    "    col('_WikiPostId').alias('WikiPostID'))"
   ]
  },
  {
   "cell_type": "code",
   "execution_count": 10,
   "id": "4661aa9a-8037-4f4c-912f-395835afb4da",
   "metadata": {
    "execution": {
     "iopub.execute_input": "2023-01-28T18:42:01.714196Z",
     "iopub.status.busy": "2023-01-28T18:42:01.713954Z",
     "iopub.status.idle": "2023-01-28T18:42:11.040953Z",
     "shell.execute_reply": "2023-01-28T18:42:11.040379Z",
     "shell.execute_reply.started": "2023-01-28T18:42:01.714161Z"
    },
    "tags": []
   },
   "outputs": [
    {
     "data": {
      "application/vnd.jupyter.widget-view+json": {
       "model_id": "7c7159298b674b73a0df2f0b4c85e777",
       "version_major": 2,
       "version_minor": 0
      },
      "text/plain": [
       "VBox()"
      ]
     },
     "metadata": {},
     "output_type": "display_data"
    },
    {
     "data": {
      "application/vnd.jupyter.widget-view+json": {
       "model_id": "",
       "version_major": 2,
       "version_minor": 0
      },
      "text/plain": [
       "FloatProgress(value=0.0, bar_style='info', description='Progress:', layout=Layout(height='25px', width='50%'),…"
      ]
     },
     "metadata": {},
     "output_type": "display_data"
    }
   ],
   "source": [
    "usersFile = \"Users.xml\"\n",
    "\n",
    "dfUsers = spark.read.format('xml').options(rootTag='users').options(rowTag='row').load(s3BucketURI + usersFile)\n",
    "\n",
    "dfUsers = dfUsers.select(\n",
    "    col('_Id').alias('ID'), \n",
    "    col('_Reputation').alias('Reputation'),\n",
    "    col('_CreationDate').alias('CreationDate'),\n",
    "    col('_DisplayName').alias('DisplayName'),\n",
    "    col('_LastAccessDate').alias('LastAccessDate'),\n",
    "    col('_WebsiteUrl').alias('WebsiteURL'),\n",
    "    col('_Location').alias('Location'),\n",
    "    col('_AboutMe').alias('AboutMe'),\n",
    "    col('_Views').alias('Views'),\n",
    "    col('_UpVotes').alias('UpVotes'),\n",
    "    col('_DownVotes').alias('DownVotes'),\n",
    "    col('_ProfileImageUrl').alias('ProfileImageURL'),\n",
    "    col('_AccountId').alias('AccountID'))"
   ]
  },
  {
   "cell_type": "code",
   "execution_count": 11,
   "id": "0b385c3e-7f85-41e9-bb32-b97124ef104c",
   "metadata": {
    "execution": {
     "iopub.execute_input": "2023-01-28T18:42:11.041973Z",
     "iopub.status.busy": "2023-01-28T18:42:11.041807Z",
     "iopub.status.idle": "2023-01-28T18:42:14.354655Z",
     "shell.execute_reply": "2023-01-28T18:42:14.354046Z",
     "shell.execute_reply.started": "2023-01-28T18:42:11.041951Z"
    },
    "tags": []
   },
   "outputs": [
    {
     "data": {
      "application/vnd.jupyter.widget-view+json": {
       "model_id": "9bb211f6597e489186f04ba5c833d13f",
       "version_major": 2,
       "version_minor": 0
      },
      "text/plain": [
       "VBox()"
      ]
     },
     "metadata": {},
     "output_type": "display_data"
    },
    {
     "data": {
      "application/vnd.jupyter.widget-view+json": {
       "model_id": "",
       "version_major": 2,
       "version_minor": 0
      },
      "text/plain": [
       "FloatProgress(value=0.0, bar_style='info', description='Progress:', layout=Layout(height='25px', width='50%'),…"
      ]
     },
     "metadata": {},
     "output_type": "display_data"
    }
   ],
   "source": [
    "votesFile = \"Votes.xml\"\n",
    "\n",
    "dfVotes = spark.read.format('xml').options(rootTag='votes').options(rowTag='row').load(s3BucketURI + votesFile)\n",
    "\n",
    "dfVotes = dfVotes.select(\n",
    "    col('_Id').alias('ID'),\n",
    "    col('_PostId').alias('PostID'),\n",
    "    col('_VoteTypeId').alias('VoteTypeID'),\n",
    "    col('_UserId').alias('UserID'),\n",
    "    col('_CreationDate').alias('CreationDate'),\n",
    "    col('_BountyAmount').alias('BountyAmount'))"
   ]
  },
  {
   "cell_type": "markdown",
   "id": "de35acad-8dfd-445c-8ba3-5f4d15e3e7eb",
   "metadata": {},
   "source": [
    "# Cleaning text columns"
   ]
  },
  {
   "cell_type": "markdown",
   "id": "8aa991bb-92a3-4281-84fe-6bbd60adf161",
   "metadata": {},
   "source": [
    "Deleting HTML code from Posts.Body and Users.AboutMe"
   ]
  },
  {
   "cell_type": "code",
   "execution_count": 12,
   "id": "d4398a6b-228b-4177-b8d3-5d144f20c022",
   "metadata": {
    "execution": {
     "iopub.execute_input": "2023-01-28T18:42:14.355737Z",
     "iopub.status.busy": "2023-01-28T18:42:14.355568Z",
     "iopub.status.idle": "2023-01-28T18:42:14.618987Z",
     "shell.execute_reply": "2023-01-28T18:42:14.618352Z",
     "shell.execute_reply.started": "2023-01-28T18:42:14.355716Z"
    },
    "tags": []
   },
   "outputs": [
    {
     "data": {
      "application/vnd.jupyter.widget-view+json": {
       "model_id": "75194aa1c668496b9a23c25a3ab3b289",
       "version_major": 2,
       "version_minor": 0
      },
      "text/plain": [
       "VBox()"
      ]
     },
     "metadata": {},
     "output_type": "display_data"
    },
    {
     "data": {
      "application/vnd.jupyter.widget-view+json": {
       "model_id": "",
       "version_major": 2,
       "version_minor": 0
      },
      "text/plain": [
       "FloatProgress(value=0.0, bar_style='info', description='Progress:', layout=Layout(height='25px', width='50%'),…"
      ]
     },
     "metadata": {},
     "output_type": "display_data"
    },
    {
     "name": "stdout",
     "output_type": "stream",
     "text": [
      "/usr/local/lib/python3.7/site-packages/bs4/element.py:16: UserWarning: The soupsieve package is not installed. CSS selectors cannot be used.\n",
      "  'The soupsieve package is not installed. CSS selectors cannot be used.'"
     ]
    }
   ],
   "source": [
    "from bs4 import BeautifulSoup"
   ]
  },
  {
   "cell_type": "code",
   "execution_count": 13,
   "id": "3d358cc7-4c6e-4c98-868f-f2b01d6c803d",
   "metadata": {
    "execution": {
     "iopub.execute_input": "2023-01-28T18:42:14.620444Z",
     "iopub.status.busy": "2023-01-28T18:42:14.620168Z",
     "iopub.status.idle": "2023-01-28T18:42:14.681392Z",
     "shell.execute_reply": "2023-01-28T18:42:14.680832Z",
     "shell.execute_reply.started": "2023-01-28T18:42:14.620393Z"
    },
    "tags": []
   },
   "outputs": [
    {
     "data": {
      "application/vnd.jupyter.widget-view+json": {
       "model_id": "47b9792567144049b7ce5471b3257908",
       "version_major": 2,
       "version_minor": 0
      },
      "text/plain": [
       "VBox()"
      ]
     },
     "metadata": {},
     "output_type": "display_data"
    },
    {
     "data": {
      "application/vnd.jupyter.widget-view+json": {
       "model_id": "",
       "version_major": 2,
       "version_minor": 0
      },
      "text/plain": [
       "FloatProgress(value=0.0, bar_style='info', description='Progress:', layout=Layout(height='25px', width='50%'),…"
      ]
     },
     "metadata": {},
     "output_type": "display_data"
    }
   ],
   "source": [
    "def deleteHtml(string):\n",
    "    return BeautifulSoup(string).get_text()\n",
    "\n",
    "deleteHtmlUDF = udf(lambda x:deleteHtml(x) if x is not None else None,StringType()) "
   ]
  },
  {
   "cell_type": "code",
   "execution_count": 14,
   "id": "6dfbeaa8-5e2a-43d2-9d85-b3a972391b74",
   "metadata": {
    "execution": {
     "iopub.execute_input": "2023-01-28T18:42:14.682392Z",
     "iopub.status.busy": "2023-01-28T18:42:14.682222Z",
     "iopub.status.idle": "2023-01-28T18:42:14.946395Z",
     "shell.execute_reply": "2023-01-28T18:42:14.945833Z",
     "shell.execute_reply.started": "2023-01-28T18:42:14.682370Z"
    },
    "tags": []
   },
   "outputs": [
    {
     "data": {
      "application/vnd.jupyter.widget-view+json": {
       "model_id": "6a716f684d7441908f0f3e33674078e2",
       "version_major": 2,
       "version_minor": 0
      },
      "text/plain": [
       "VBox()"
      ]
     },
     "metadata": {},
     "output_type": "display_data"
    },
    {
     "data": {
      "application/vnd.jupyter.widget-view+json": {
       "model_id": "",
       "version_major": 2,
       "version_minor": 0
      },
      "text/plain": [
       "FloatProgress(value=0.0, bar_style='info', description='Progress:', layout=Layout(height='25px', width='50%'),…"
      ]
     },
     "metadata": {},
     "output_type": "display_data"
    }
   ],
   "source": [
    "dfPosts = dfPosts.withColumn('Body', deleteHtmlUDF(dfPosts.Body))"
   ]
  },
  {
   "cell_type": "code",
   "execution_count": 15,
   "id": "9cf051fc-d1d4-438f-b807-15f99586f4df",
   "metadata": {
    "execution": {
     "iopub.execute_input": "2023-01-28T18:42:14.947840Z",
     "iopub.status.busy": "2023-01-28T18:42:14.947607Z",
     "iopub.status.idle": "2023-01-28T18:42:15.747966Z",
     "shell.execute_reply": "2023-01-28T18:42:15.747278Z",
     "shell.execute_reply.started": "2023-01-28T18:42:14.947807Z"
    },
    "tags": []
   },
   "outputs": [
    {
     "data": {
      "application/vnd.jupyter.widget-view+json": {
       "model_id": "1fa7a4562a134668a7299798e83b426a",
       "version_major": 2,
       "version_minor": 0
      },
      "text/plain": [
       "VBox()"
      ]
     },
     "metadata": {},
     "output_type": "display_data"
    },
    {
     "data": {
      "application/vnd.jupyter.widget-view+json": {
       "model_id": "",
       "version_major": 2,
       "version_minor": 0
      },
      "text/plain": [
       "FloatProgress(value=0.0, bar_style='info', description='Progress:', layout=Layout(height='25px', width='50%'),…"
      ]
     },
     "metadata": {},
     "output_type": "display_data"
    }
   ],
   "source": [
    "dfUsers = dfUsers.withColumn('AboutMe', when(isnull(dfUsers.AboutMe), None).otherwise(deleteHtmlUDF(dfUsers.AboutMe)))"
   ]
  },
  {
   "cell_type": "markdown",
   "id": "6511893e-a9f9-4d94-99de-75252ef2001e",
   "metadata": {},
   "source": [
    "Casting tags to a list"
   ]
  },
  {
   "cell_type": "code",
   "execution_count": 16,
   "id": "ded26d4b-52f3-41e6-b261-50d56508fd17",
   "metadata": {
    "execution": {
     "iopub.execute_input": "2023-01-28T18:42:15.749352Z",
     "iopub.status.busy": "2023-01-28T18:42:15.749100Z",
     "iopub.status.idle": "2023-01-28T18:42:15.818806Z",
     "shell.execute_reply": "2023-01-28T18:42:15.818091Z",
     "shell.execute_reply.started": "2023-01-28T18:42:15.749319Z"
    },
    "tags": []
   },
   "outputs": [
    {
     "data": {
      "application/vnd.jupyter.widget-view+json": {
       "model_id": "77352ea792a54590baf7e5669c69febd",
       "version_major": 2,
       "version_minor": 0
      },
      "text/plain": [
       "VBox()"
      ]
     },
     "metadata": {},
     "output_type": "display_data"
    },
    {
     "data": {
      "application/vnd.jupyter.widget-view+json": {
       "model_id": "",
       "version_major": 2,
       "version_minor": 0
      },
      "text/plain": [
       "FloatProgress(value=0.0, bar_style='info', description='Progress:', layout=Layout(height='25px', width='50%'),…"
      ]
     },
     "metadata": {},
     "output_type": "display_data"
    }
   ],
   "source": [
    "def tagsStrip(string):\n",
    "    return string[1:-1]\n",
    "    \n",
    "tagsStripUDF = udf(lambda x:tagsStrip(x) if x is not None else None,StringType())"
   ]
  },
  {
   "cell_type": "code",
   "execution_count": 17,
   "id": "6b71baf2-8de2-4eb0-8a8d-608d1455f5fa",
   "metadata": {
    "execution": {
     "iopub.execute_input": "2023-01-28T18:42:15.821465Z",
     "iopub.status.busy": "2023-01-28T18:42:15.821217Z",
     "iopub.status.idle": "2023-01-28T18:42:16.105412Z",
     "shell.execute_reply": "2023-01-28T18:42:16.104835Z",
     "shell.execute_reply.started": "2023-01-28T18:42:15.821430Z"
    },
    "tags": []
   },
   "outputs": [
    {
     "data": {
      "application/vnd.jupyter.widget-view+json": {
       "model_id": "64a37eeb757544b1b8decfe0a960374b",
       "version_major": 2,
       "version_minor": 0
      },
      "text/plain": [
       "VBox()"
      ]
     },
     "metadata": {},
     "output_type": "display_data"
    },
    {
     "data": {
      "application/vnd.jupyter.widget-view+json": {
       "model_id": "",
       "version_major": 2,
       "version_minor": 0
      },
      "text/plain": [
       "FloatProgress(value=0.0, bar_style='info', description='Progress:', layout=Layout(height='25px', width='50%'),…"
      ]
     },
     "metadata": {},
     "output_type": "display_data"
    }
   ],
   "source": [
    "dfPosts = dfPosts.withColumn(\"Tags\", split(tagsStripUDF(dfPosts.Tags), '><'))"
   ]
  },
  {
   "cell_type": "markdown",
   "id": "ded64a50-063c-4efc-ba20-83a4d6615a2c",
   "metadata": {},
   "source": [
    "# Saving to Parquet files on S3"
   ]
  },
  {
   "cell_type": "code",
   "execution_count": 18,
   "id": "d34de519-8859-4b79-ac9e-bcf7dd4f1642",
   "metadata": {
    "execution": {
     "iopub.execute_input": "2023-01-28T18:42:16.106706Z",
     "iopub.status.busy": "2023-01-28T18:42:16.106442Z",
     "iopub.status.idle": "2023-01-28T18:42:21.408073Z",
     "shell.execute_reply": "2023-01-28T18:42:21.407228Z",
     "shell.execute_reply.started": "2023-01-28T18:42:16.106671Z"
    }
   },
   "outputs": [
    {
     "data": {
      "application/vnd.jupyter.widget-view+json": {
       "model_id": "75c65a10a05446db99fd98eb7243dac8",
       "version_major": 2,
       "version_minor": 0
      },
      "text/plain": [
       "VBox()"
      ]
     },
     "metadata": {},
     "output_type": "display_data"
    },
    {
     "data": {
      "application/vnd.jupyter.widget-view+json": {
       "model_id": "",
       "version_major": 2,
       "version_minor": 0
      },
      "text/plain": [
       "FloatProgress(value=0.0, bar_style='info', description='Progress:', layout=Layout(height='25px', width='50%'),…"
      ]
     },
     "metadata": {},
     "output_type": "display_data"
    }
   ],
   "source": [
    "badgesOtFile = \"preprocessed/Badges.parquet\"\n",
    "\n",
    "dfBadges.write.mode(\"overwrite\").parquet(s3BucketURI + badgesOtFile)"
   ]
  },
  {
   "cell_type": "code",
   "execution_count": 19,
   "id": "df836086-496b-4c64-abff-0b00a7075bc8",
   "metadata": {
    "execution": {
     "iopub.execute_input": "2023-01-28T18:42:21.409822Z",
     "iopub.status.busy": "2023-01-28T18:42:21.409349Z",
     "iopub.status.idle": "2023-01-28T18:42:24.730972Z",
     "shell.execute_reply": "2023-01-28T18:42:24.730333Z",
     "shell.execute_reply.started": "2023-01-28T18:42:21.409782Z"
    }
   },
   "outputs": [
    {
     "data": {
      "application/vnd.jupyter.widget-view+json": {
       "model_id": "ec9729dd62094b4ba7e3f6b7702e9fd5",
       "version_major": 2,
       "version_minor": 0
      },
      "text/plain": [
       "VBox()"
      ]
     },
     "metadata": {},
     "output_type": "display_data"
    },
    {
     "data": {
      "application/vnd.jupyter.widget-view+json": {
       "model_id": "",
       "version_major": 2,
       "version_minor": 0
      },
      "text/plain": [
       "FloatProgress(value=0.0, bar_style='info', description='Progress:', layout=Layout(height='25px', width='50%'),…"
      ]
     },
     "metadata": {},
     "output_type": "display_data"
    }
   ],
   "source": [
    "commentsOtFile = \"preprocessed/Comments.parquet\"\n",
    "\n",
    "dfComments.write.mode(\"overwrite\").parquet(s3BucketURI + commentsOtFile)"
   ]
  },
  {
   "cell_type": "code",
   "execution_count": 20,
   "id": "b2b9d4e3-b1b9-4030-b87c-71417268b05a",
   "metadata": {
    "execution": {
     "iopub.execute_input": "2023-01-28T18:42:24.732001Z",
     "iopub.status.busy": "2023-01-28T18:42:24.731833Z",
     "iopub.status.idle": "2023-01-28T18:42:34.059343Z",
     "shell.execute_reply": "2023-01-28T18:42:34.058711Z",
     "shell.execute_reply.started": "2023-01-28T18:42:24.731979Z"
    }
   },
   "outputs": [
    {
     "data": {
      "application/vnd.jupyter.widget-view+json": {
       "model_id": "012b877b1fb94b0f91c5fb8fec3464dc",
       "version_major": 2,
       "version_minor": 0
      },
      "text/plain": [
       "VBox()"
      ]
     },
     "metadata": {},
     "output_type": "display_data"
    },
    {
     "data": {
      "application/vnd.jupyter.widget-view+json": {
       "model_id": "",
       "version_major": 2,
       "version_minor": 0
      },
      "text/plain": [
       "FloatProgress(value=0.0, bar_style='info', description='Progress:', layout=Layout(height='25px', width='50%'),…"
      ]
     },
     "metadata": {},
     "output_type": "display_data"
    }
   ],
   "source": [
    "postHistoryOtFile = \"preprocessed/PostHistory.parquet\"\n",
    "\n",
    "dfPostHistory.write.mode(\"overwrite\").parquet(s3BucketURI + postHistoryOtFile)"
   ]
  },
  {
   "cell_type": "code",
   "execution_count": 21,
   "id": "238eb0aa-b5e5-4bc4-9077-c595ef7bc3a4",
   "metadata": {
    "execution": {
     "iopub.execute_input": "2023-01-28T18:42:34.060387Z",
     "iopub.status.busy": "2023-01-28T18:42:34.060178Z",
     "iopub.status.idle": "2023-01-28T18:42:34.845054Z",
     "shell.execute_reply": "2023-01-28T18:42:34.844466Z",
     "shell.execute_reply.started": "2023-01-28T18:42:34.060363Z"
    }
   },
   "outputs": [
    {
     "data": {
      "application/vnd.jupyter.widget-view+json": {
       "model_id": "185d8c0f14a74141a733a3f2890ff2fa",
       "version_major": 2,
       "version_minor": 0
      },
      "text/plain": [
       "VBox()"
      ]
     },
     "metadata": {},
     "output_type": "display_data"
    },
    {
     "data": {
      "application/vnd.jupyter.widget-view+json": {
       "model_id": "",
       "version_major": 2,
       "version_minor": 0
      },
      "text/plain": [
       "FloatProgress(value=0.0, bar_style='info', description='Progress:', layout=Layout(height='25px', width='50%'),…"
      ]
     },
     "metadata": {},
     "output_type": "display_data"
    }
   ],
   "source": [
    "postLinksOtFile = \"preprocessed/PostLinks.parquet\"\n",
    "\n",
    "dfPostLinks.write.mode(\"overwrite\").parquet(s3BucketURI + postLinksOtFile)"
   ]
  },
  {
   "cell_type": "code",
   "execution_count": 22,
   "id": "657db291-64b9-4649-9d1f-22f31ab088f8",
   "metadata": {
    "execution": {
     "iopub.execute_input": "2023-01-28T18:42:34.846120Z",
     "iopub.status.busy": "2023-01-28T18:42:34.845930Z",
     "iopub.status.idle": "2023-01-28T18:42:54.203839Z",
     "shell.execute_reply": "2023-01-28T18:42:54.203027Z",
     "shell.execute_reply.started": "2023-01-28T18:42:34.846096Z"
    }
   },
   "outputs": [
    {
     "data": {
      "application/vnd.jupyter.widget-view+json": {
       "model_id": "c788500c73f1480cb6492fb40e6de818",
       "version_major": 2,
       "version_minor": 0
      },
      "text/plain": [
       "VBox()"
      ]
     },
     "metadata": {},
     "output_type": "display_data"
    },
    {
     "data": {
      "application/vnd.jupyter.widget-view+json": {
       "model_id": "",
       "version_major": 2,
       "version_minor": 0
      },
      "text/plain": [
       "FloatProgress(value=0.0, bar_style='info', description='Progress:', layout=Layout(height='25px', width='50%'),…"
      ]
     },
     "metadata": {},
     "output_type": "display_data"
    }
   ],
   "source": [
    "postsOtFile = \"preprocessed/Posts.parquet\"\n",
    "\n",
    "dfPosts.write.mode(\"overwrite\").parquet(s3BucketURI + postsOtFile)"
   ]
  },
  {
   "cell_type": "code",
   "execution_count": 23,
   "id": "88c2cd07-5c43-4a1e-a58a-6c1dee15cf60",
   "metadata": {
    "execution": {
     "iopub.execute_input": "2023-01-28T18:42:54.206080Z",
     "iopub.status.busy": "2023-01-28T18:42:54.205910Z",
     "iopub.status.idle": "2023-01-28T18:42:54.992064Z",
     "shell.execute_reply": "2023-01-28T18:42:54.991382Z",
     "shell.execute_reply.started": "2023-01-28T18:42:54.206058Z"
    }
   },
   "outputs": [
    {
     "data": {
      "application/vnd.jupyter.widget-view+json": {
       "model_id": "4cff2c1842834110947155ab959b2d49",
       "version_major": 2,
       "version_minor": 0
      },
      "text/plain": [
       "VBox()"
      ]
     },
     "metadata": {},
     "output_type": "display_data"
    },
    {
     "data": {
      "application/vnd.jupyter.widget-view+json": {
       "model_id": "",
       "version_major": 2,
       "version_minor": 0
      },
      "text/plain": [
       "FloatProgress(value=0.0, bar_style='info', description='Progress:', layout=Layout(height='25px', width='50%'),…"
      ]
     },
     "metadata": {},
     "output_type": "display_data"
    }
   ],
   "source": [
    "tagsOtFile = \"preprocessed/Tags.parquet\"\n",
    "\n",
    "dfTags.write.mode(\"overwrite\").parquet(s3BucketURI + tagsOtFile)"
   ]
  },
  {
   "cell_type": "code",
   "execution_count": 24,
   "id": "9edc25af-d65d-4722-946d-d0b9f0d2b551",
   "metadata": {
    "execution": {
     "iopub.execute_input": "2023-01-28T18:42:54.993508Z",
     "iopub.status.busy": "2023-01-28T18:42:54.993258Z",
     "iopub.status.idle": "2023-01-28T18:43:02.309036Z",
     "shell.execute_reply": "2023-01-28T18:43:02.308519Z",
     "shell.execute_reply.started": "2023-01-28T18:42:54.993475Z"
    },
    "tags": []
   },
   "outputs": [
    {
     "data": {
      "application/vnd.jupyter.widget-view+json": {
       "model_id": "515873533ff046859cbfcaf43b4d29ba",
       "version_major": 2,
       "version_minor": 0
      },
      "text/plain": [
       "VBox()"
      ]
     },
     "metadata": {},
     "output_type": "display_data"
    },
    {
     "data": {
      "application/vnd.jupyter.widget-view+json": {
       "model_id": "",
       "version_major": 2,
       "version_minor": 0
      },
      "text/plain": [
       "FloatProgress(value=0.0, bar_style='info', description='Progress:', layout=Layout(height='25px', width='50%'),…"
      ]
     },
     "metadata": {},
     "output_type": "display_data"
    }
   ],
   "source": [
    "usersOtFile = \"preprocessed/Users.parquet\"\n",
    "\n",
    "dfUsers.write.mode(\"overwrite\").parquet(s3BucketURI + usersOtFile)"
   ]
  },
  {
   "cell_type": "code",
   "execution_count": 25,
   "id": "f2b1b90c-f8e3-4cc5-8b54-8056564b3ab1",
   "metadata": {
    "execution": {
     "iopub.execute_input": "2023-01-28T18:43:02.310106Z",
     "iopub.status.busy": "2023-01-28T18:43:02.309926Z",
     "iopub.status.idle": "2023-01-28T18:43:05.604917Z",
     "shell.execute_reply": "2023-01-28T18:43:05.604276Z",
     "shell.execute_reply.started": "2023-01-28T18:43:02.310083Z"
    }
   },
   "outputs": [
    {
     "data": {
      "application/vnd.jupyter.widget-view+json": {
       "model_id": "a75f818a736545c3a7698df7b81f149e",
       "version_major": 2,
       "version_minor": 0
      },
      "text/plain": [
       "VBox()"
      ]
     },
     "metadata": {},
     "output_type": "display_data"
    },
    {
     "data": {
      "application/vnd.jupyter.widget-view+json": {
       "model_id": "",
       "version_major": 2,
       "version_minor": 0
      },
      "text/plain": [
       "FloatProgress(value=0.0, bar_style='info', description='Progress:', layout=Layout(height='25px', width='50%'),…"
      ]
     },
     "metadata": {},
     "output_type": "display_data"
    }
   ],
   "source": [
    "votesOtFile = \"preprocessed/Votes.parquet\"\n",
    "\n",
    "dfVotes.write.mode(\"overwrite\").parquet(s3BucketURI + votesOtFile)"
   ]
  },
  {
   "cell_type": "code",
   "execution_count": null,
   "id": "42217568-baa4-4891-8360-cfd0e745f281",
   "metadata": {},
   "outputs": [],
   "source": []
  }
 ],
 "metadata": {
  "kernelspec": {
   "display_name": "PySpark",
   "language": "python",
   "name": "pysparkkernel"
  },
  "language_info": {
   "codemirror_mode": {
    "name": "python",
    "version": 3
   },
   "file_extension": ".py",
   "mimetype": "text/x-python",
   "name": "pyspark",
   "pygments_lexer": "python3"
  }
 },
 "nbformat": 4,
 "nbformat_minor": 5
}
