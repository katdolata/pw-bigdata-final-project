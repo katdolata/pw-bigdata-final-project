{
 "cells": [
  {
   "cell_type": "code",
   "execution_count": 1,
   "id": "a3bc68be-566b-49e3-93b8-cc09be46bb6f",
   "metadata": {
    "execution": {
     "iopub.execute_input": "2023-01-30T22:53:04.490673Z",
     "iopub.status.busy": "2023-01-30T22:53:04.490452Z",
     "iopub.status.idle": "2023-01-30T22:53:33.166538Z",
     "shell.execute_reply": "2023-01-30T22:53:33.166023Z",
     "shell.execute_reply.started": "2023-01-30T22:53:04.490649Z"
    },
    "tags": []
   },
   "outputs": [
    {
     "data": {
      "application/vnd.jupyter.widget-view+json": {
       "model_id": "49bd95fd78934781b8693cd4bb939e9e",
       "version_major": 2,
       "version_minor": 0
      },
      "text/plain": [
       "VBox()"
      ]
     },
     "metadata": {},
     "output_type": "display_data"
    },
    {
     "name": "stdout",
     "output_type": "stream",
     "text": [
      "Starting Spark application\n"
     ]
    },
    {
     "data": {
      "text/html": [
       "<table>\n",
       "<tr><th>ID</th><th>YARN Application ID</th><th>Kind</th><th>State</th><th>Spark UI</th><th>Driver log</th><th>User</th><th>Current session?</th></tr><tr><td>3</td><td>application_1675098602625_0005</td><td>pyspark</td><td>idle</td><td><a target=\"_blank\" href=\"http://ip-172-31-42-127.ec2.internal:20888/proxy/application_1675098602625_0005/\" class=\"emr-proxy-link\" emr-resource=\"j-2SZARWTREVLJG\n",
       "\" application-id=\"application_1675098602625_0005\">Link</a></td><td><a target=\"_blank\" href=\"http://ip-172-31-42-127.ec2.internal:8042/node/containerlogs/container_1675098602625_0005_01_000001/livy\" >Link</a></td><td>None</td><td>✔</td></tr></table>"
      ],
      "text/plain": [
       "<IPython.core.display.HTML object>"
      ]
     },
     "metadata": {},
     "output_type": "display_data"
    },
    {
     "data": {
      "application/vnd.jupyter.widget-view+json": {
       "model_id": "",
       "version_major": 2,
       "version_minor": 0
      },
      "text/plain": [
       "FloatProgress(value=0.0, bar_style='info', description='Progress:', layout=Layout(height='25px', width='50%'),…"
      ]
     },
     "metadata": {},
     "output_type": "display_data"
    },
    {
     "name": "stdout",
     "output_type": "stream",
     "text": [
      "SparkSession available as 'spark'.\n"
     ]
    },
    {
     "data": {
      "application/vnd.jupyter.widget-view+json": {
       "model_id": "",
       "version_major": 2,
       "version_minor": 0
      },
      "text/plain": [
       "FloatProgress(value=0.0, bar_style='info', description='Progress:', layout=Layout(height='25px', width='50%'),…"
      ]
     },
     "metadata": {},
     "output_type": "display_data"
    }
   ],
   "source": [
    "# %pip install emr-notebooks-magics"
   ]
  },
  {
   "cell_type": "code",
   "execution_count": 2,
   "id": "b79ba113-d7a3-4e11-abac-195f90225ffe",
   "metadata": {
    "execution": {
     "iopub.execute_input": "2023-01-30T22:53:33.168010Z",
     "iopub.status.busy": "2023-01-30T22:53:33.167767Z",
     "iopub.status.idle": "2023-01-30T22:53:33.235363Z",
     "shell.execute_reply": "2023-01-30T22:53:33.232928Z",
     "shell.execute_reply.started": "2023-01-30T22:53:33.167976Z"
    },
    "tags": []
   },
   "outputs": [
    {
     "data": {
      "application/vnd.jupyter.widget-view+json": {
       "model_id": "1ab1095c7b06460297744ddd909b2fb5",
       "version_major": 2,
       "version_minor": 0
      },
      "text/plain": [
       "VBox()"
      ]
     },
     "metadata": {},
     "output_type": "display_data"
    },
    {
     "data": {
      "application/vnd.jupyter.widget-view+json": {
       "model_id": "",
       "version_major": 2,
       "version_minor": 0
      },
      "text/plain": [
       "FloatProgress(value=0.0, bar_style='info', description='Progress:', layout=Layout(height='25px', width='50%'),…"
      ]
     },
     "metadata": {},
     "output_type": "display_data"
    }
   ],
   "source": [
    "from pyspark.sql import SparkSession\n",
    "\n",
    "spark = SparkSession.builder.getOrCreate()"
   ]
  },
  {
   "cell_type": "code",
   "execution_count": 3,
   "id": "d79fad27-1955-4859-bc84-1f588b151f03",
   "metadata": {
    "execution": {
     "iopub.execute_input": "2023-01-30T22:53:33.237531Z",
     "iopub.status.busy": "2023-01-30T22:53:33.237123Z",
     "iopub.status.idle": "2023-01-30T22:53:42.677595Z",
     "shell.execute_reply": "2023-01-30T22:53:42.676897Z",
     "shell.execute_reply.started": "2023-01-30T22:53:33.237493Z"
    },
    "tags": []
   },
   "outputs": [
    {
     "data": {
      "application/vnd.jupyter.widget-view+json": {
       "model_id": "c664c3029708402f884dc2c7129d32a8",
       "version_major": 2,
       "version_minor": 0
      },
      "text/plain": [
       "VBox()"
      ]
     },
     "metadata": {},
     "output_type": "display_data"
    },
    {
     "data": {
      "application/vnd.jupyter.widget-view+json": {
       "model_id": "",
       "version_major": 2,
       "version_minor": 0
      },
      "text/plain": [
       "FloatProgress(value=0.0, bar_style='info', description='Progress:', layout=Layout(height='25px', width='50%'),…"
      ]
     },
     "metadata": {},
     "output_type": "display_data"
    },
    {
     "name": "stdout",
     "output_type": "stream",
     "text": [
      "Uninstalling pip-9.0.1:\n",
      "  Successfully uninstalled pip-9.0.1\n",
      "\n",
      "Collecting pip==22.3.1\n",
      "  Using cached pip-22.3.1-py3-none-any.whl (2.1 MB)\n",
      "Installing collected packages: pip\n",
      "Successfully installed pip-22.3.1"
     ]
    }
   ],
   "source": [
    "sc.uninstall_package('pip')\n",
    "sc.install_pypi_package(\"pip==22.3.1\")"
   ]
  },
  {
   "cell_type": "code",
   "execution_count": 4,
   "id": "4fae2294-4b5b-4c0c-bc96-6e199bdd71b4",
   "metadata": {
    "execution": {
     "iopub.execute_input": "2023-01-30T22:53:42.678875Z",
     "iopub.status.busy": "2023-01-30T22:53:42.678704Z",
     "iopub.status.idle": "2023-01-30T22:53:51.990249Z",
     "shell.execute_reply": "2023-01-30T22:53:51.989432Z",
     "shell.execute_reply.started": "2023-01-30T22:53:42.678853Z"
    },
    "tags": []
   },
   "outputs": [
    {
     "data": {
      "application/vnd.jupyter.widget-view+json": {
       "model_id": "8205dddebedf411ba1e8d05f33e9c72e",
       "version_major": 2,
       "version_minor": 0
      },
      "text/plain": [
       "VBox()"
      ]
     },
     "metadata": {},
     "output_type": "display_data"
    },
    {
     "data": {
      "application/vnd.jupyter.widget-view+json": {
       "model_id": "",
       "version_major": 2,
       "version_minor": 0
      },
      "text/plain": [
       "FloatProgress(value=0.0, bar_style='info', description='Progress:', layout=Layout(height='25px', width='50%'),…"
      ]
     },
     "metadata": {},
     "output_type": "display_data"
    },
    {
     "name": "stdout",
     "output_type": "stream",
     "text": [
      "Collecting matplotlib==3.5.3\n",
      "  Using cached matplotlib-3.5.3-cp37-cp37m-manylinux_2_5_x86_64.manylinux1_x86_64.whl (11.2 MB)\n",
      "Requirement already satisfied: numpy>=1.17 in /usr/local/lib64/python3.7/site-packages (from matplotlib==3.5.3) (1.20.0)\n",
      "Collecting packaging>=20.0\n",
      "  Using cached packaging-23.0-py3-none-any.whl (42 kB)\n",
      "Collecting python-dateutil>=2.7\n",
      "  Using cached python_dateutil-2.8.2-py2.py3-none-any.whl (247 kB)\n",
      "Collecting pyparsing>=2.2.1\n",
      "  Using cached pyparsing-3.0.9-py3-none-any.whl (98 kB)\n",
      "Collecting cycler>=0.10\n",
      "  Using cached cycler-0.11.0-py3-none-any.whl (6.4 kB)\n",
      "Collecting fonttools>=4.22.0\n",
      "  Using cached fonttools-4.38.0-py3-none-any.whl (965 kB)\n",
      "Collecting pillow>=6.2.0\n",
      "  Using cached Pillow-9.4.0-cp37-cp37m-manylinux_2_17_x86_64.manylinux2014_x86_64.whl (3.3 MB)\n",
      "Collecting kiwisolver>=1.0.1\n",
      "  Using cached kiwisolver-1.4.4-cp37-cp37m-manylinux_2_5_x86_64.manylinux1_x86_64.whl (1.1 MB)\n",
      "Collecting typing-extensions\n",
      "  Using cached typing_extensions-4.4.0-py3-none-any.whl (26 kB)\n",
      "Requirement already satisfied: six>=1.5 in /usr/local/lib/python3.7/site-packages (from python-dateutil>=2.7->matplotlib==3.5.3) (1.13.0)\n",
      "Installing collected packages: typing-extensions, python-dateutil, pyparsing, pillow, packaging, fonttools, cycler, kiwisolver, matplotlib\n",
      "Successfully installed cycler-0.11.0 fonttools-4.38.0 kiwisolver-1.4.4 matplotlib-3.5.3 packaging-23.0 pillow-9.4.0 pyparsing-3.0.9 python-dateutil-2.8.2 typing-extensions-4.4.0"
     ]
    }
   ],
   "source": [
    "sc.install_pypi_package(\"matplotlib==3.5.3\", \"https://pypi.org/simple\")"
   ]
  },
  {
   "cell_type": "code",
   "execution_count": 5,
   "id": "6d734da3-ea71-4664-a55c-49b202f90af1",
   "metadata": {
    "execution": {
     "iopub.execute_input": "2023-01-30T22:53:51.991726Z",
     "iopub.status.busy": "2023-01-30T22:53:51.991461Z",
     "iopub.status.idle": "2023-01-30T22:54:03.324753Z",
     "shell.execute_reply": "2023-01-30T22:54:03.323963Z",
     "shell.execute_reply.started": "2023-01-30T22:53:51.991691Z"
    },
    "tags": []
   },
   "outputs": [
    {
     "data": {
      "application/vnd.jupyter.widget-view+json": {
       "model_id": "3619773f40144f0d92db7a62161b78bf",
       "version_major": 2,
       "version_minor": 0
      },
      "text/plain": [
       "VBox()"
      ]
     },
     "metadata": {},
     "output_type": "display_data"
    },
    {
     "data": {
      "application/vnd.jupyter.widget-view+json": {
       "model_id": "",
       "version_major": 2,
       "version_minor": 0
      },
      "text/plain": [
       "FloatProgress(value=0.0, bar_style='info', description='Progress:', layout=Layout(height='25px', width='50%'),…"
      ]
     },
     "metadata": {},
     "output_type": "display_data"
    },
    {
     "name": "stdout",
     "output_type": "stream",
     "text": [
      "Collecting pandas\n",
      "  Using cached pandas-1.3.5-cp37-cp37m-manylinux_2_17_x86_64.manylinux2014_x86_64.whl (11.3 MB)\n",
      "Requirement already satisfied: python-dateutil>=2.7.3 in /mnt/tmp/1675119209890-0/lib/python3.7/site-packages (from pandas) (2.8.2)\n",
      "Requirement already satisfied: numpy>=1.17.3 in /usr/local/lib64/python3.7/site-packages (from pandas) (1.20.0)\n",
      "Requirement already satisfied: pytz>=2017.3 in /usr/local/lib/python3.7/site-packages (from pandas) (2022.1)\n",
      "Requirement already satisfied: six>=1.5 in /usr/local/lib/python3.7/site-packages (from python-dateutil>=2.7.3->pandas) (1.13.0)\n",
      "Installing collected packages: pandas\n",
      "Successfully installed pandas-1.3.5"
     ]
    }
   ],
   "source": [
    "sc.install_pypi_package(\"pandas\")"
   ]
  },
  {
   "cell_type": "code",
   "execution_count": 6,
   "id": "6c653b55-e572-4fa5-b1a5-1ee2bca7cb32",
   "metadata": {
    "execution": {
     "iopub.execute_input": "2023-01-30T22:54:03.326307Z",
     "iopub.status.busy": "2023-01-30T22:54:03.326039Z",
     "iopub.status.idle": "2023-01-30T22:54:04.625945Z",
     "shell.execute_reply": "2023-01-30T22:54:04.625002Z",
     "shell.execute_reply.started": "2023-01-30T22:54:03.326271Z"
    },
    "tags": []
   },
   "outputs": [
    {
     "data": {
      "application/vnd.jupyter.widget-view+json": {
       "model_id": "8acaf029e5ac4e46aed92e1716534c0d",
       "version_major": 2,
       "version_minor": 0
      },
      "text/plain": [
       "VBox()"
      ]
     },
     "metadata": {},
     "output_type": "display_data"
    },
    {
     "data": {
      "application/vnd.jupyter.widget-view+json": {
       "model_id": "",
       "version_major": 2,
       "version_minor": 0
      },
      "text/plain": [
       "FloatProgress(value=0.0, bar_style='info', description='Progress:', layout=Layout(height='25px', width='50%'),…"
      ]
     },
     "metadata": {},
     "output_type": "display_data"
    }
   ],
   "source": [
    "import pyspark.sql.functions as F\n",
    "from pyspark.sql.types import *\n",
    "from pyspark.sql.window import Window\n",
    "import matplotlib.pyplot as plt\n",
    "import pandas as pd\n",
    "from pyspark.ml.feature import StopWordsRemover"
   ]
  },
  {
   "cell_type": "markdown",
   "id": "116b1f5b-1771-4344-b342-b91e5d794cd0",
   "metadata": {},
   "source": [
    "# Loading data to DataFrames"
   ]
  },
  {
   "cell_type": "code",
   "execution_count": 7,
   "id": "0a95b121-3ea1-48df-b349-7d0cab2cadcf",
   "metadata": {
    "execution": {
     "iopub.execute_input": "2023-01-30T22:54:04.627362Z",
     "iopub.status.busy": "2023-01-30T22:54:04.627099Z",
     "iopub.status.idle": "2023-01-30T22:54:04.682461Z",
     "shell.execute_reply": "2023-01-30T22:54:04.681867Z",
     "shell.execute_reply.started": "2023-01-30T22:54:04.627327Z"
    },
    "tags": []
   },
   "outputs": [
    {
     "data": {
      "application/vnd.jupyter.widget-view+json": {
       "model_id": "93b703374d9745879b9252c86219a94d",
       "version_major": 2,
       "version_minor": 0
      },
      "text/plain": [
       "VBox()"
      ]
     },
     "metadata": {},
     "output_type": "display_data"
    },
    {
     "data": {
      "application/vnd.jupyter.widget-view+json": {
       "model_id": "",
       "version_major": 2,
       "version_minor": 0
      },
      "text/plain": [
       "FloatProgress(value=0.0, bar_style='info', description='Progress:', layout=Layout(height='25px', width='50%'),…"
      ]
     },
     "metadata": {},
     "output_type": "display_data"
    }
   ],
   "source": [
    "# insert the URI to the location of the raw XML files on S3\n",
    "\n",
    "s3BucketURI = \"\""
   ]
  },
  {
   "cell_type": "code",
   "execution_count": 8,
   "id": "be3a8c0c-4b85-4348-bd9f-89580d5752b1",
   "metadata": {
    "execution": {
     "iopub.execute_input": "2023-01-30T22:54:04.685160Z",
     "iopub.status.busy": "2023-01-30T22:54:04.684967Z",
     "iopub.status.idle": "2023-01-30T22:54:09.997588Z",
     "shell.execute_reply": "2023-01-30T22:54:09.996960Z",
     "shell.execute_reply.started": "2023-01-30T22:54:04.685136Z"
    },
    "tags": []
   },
   "outputs": [
    {
     "data": {
      "application/vnd.jupyter.widget-view+json": {
       "model_id": "6cd0fa06aadf478189eaa63d7e60ae96",
       "version_major": 2,
       "version_minor": 0
      },
      "text/plain": [
       "VBox()"
      ]
     },
     "metadata": {},
     "output_type": "display_data"
    },
    {
     "data": {
      "application/vnd.jupyter.widget-view+json": {
       "model_id": "",
       "version_major": 2,
       "version_minor": 0
      },
      "text/plain": [
       "FloatProgress(value=0.0, bar_style='info', description='Progress:', layout=Layout(height='25px', width='50%'),…"
      ]
     },
     "metadata": {},
     "output_type": "display_data"
    }
   ],
   "source": [
    "badgesFile = \"preprocessed/Badges.parquet\"\n",
    "\n",
    "dfBadges = spark.read.parquet(s3BucketURI + badgesFile)"
   ]
  },
  {
   "cell_type": "code",
   "execution_count": 9,
   "id": "5ece5c26-3c8e-4a27-8e17-7787acb85211",
   "metadata": {
    "execution": {
     "iopub.execute_input": "2023-01-30T22:54:09.999691Z",
     "iopub.status.busy": "2023-01-30T22:54:09.999379Z",
     "iopub.status.idle": "2023-01-30T22:54:10.771006Z",
     "shell.execute_reply": "2023-01-30T22:54:10.770439Z",
     "shell.execute_reply.started": "2023-01-30T22:54:09.999638Z"
    }
   },
   "outputs": [
    {
     "data": {
      "application/vnd.jupyter.widget-view+json": {
       "model_id": "47151b580cb646819d83d68dcd4d1d35",
       "version_major": 2,
       "version_minor": 0
      },
      "text/plain": [
       "VBox()"
      ]
     },
     "metadata": {},
     "output_type": "display_data"
    },
    {
     "data": {
      "application/vnd.jupyter.widget-view+json": {
       "model_id": "",
       "version_major": 2,
       "version_minor": 0
      },
      "text/plain": [
       "FloatProgress(value=0.0, bar_style='info', description='Progress:', layout=Layout(height='25px', width='50%'),…"
      ]
     },
     "metadata": {},
     "output_type": "display_data"
    }
   ],
   "source": [
    "commentsFile = \"preprocessed/Comments.parquet\"\n",
    "\n",
    "dfComments = spark.read.parquet(s3BucketURI + commentsFile)"
   ]
  },
  {
   "cell_type": "code",
   "execution_count": 10,
   "id": "07f22dd4-934c-4664-b0b1-f17191b6e235",
   "metadata": {
    "execution": {
     "iopub.execute_input": "2023-01-30T22:54:10.772432Z",
     "iopub.status.busy": "2023-01-30T22:54:10.772144Z",
     "iopub.status.idle": "2023-01-30T22:54:11.543987Z",
     "shell.execute_reply": "2023-01-30T22:54:11.543289Z",
     "shell.execute_reply.started": "2023-01-30T22:54:10.772395Z"
    }
   },
   "outputs": [
    {
     "data": {
      "application/vnd.jupyter.widget-view+json": {
       "model_id": "390bec2fe3c74450b749db1cf7f8de47",
       "version_major": 2,
       "version_minor": 0
      },
      "text/plain": [
       "VBox()"
      ]
     },
     "metadata": {},
     "output_type": "display_data"
    },
    {
     "data": {
      "application/vnd.jupyter.widget-view+json": {
       "model_id": "",
       "version_major": 2,
       "version_minor": 0
      },
      "text/plain": [
       "FloatProgress(value=0.0, bar_style='info', description='Progress:', layout=Layout(height='25px', width='50%'),…"
      ]
     },
     "metadata": {},
     "output_type": "display_data"
    }
   ],
   "source": [
    "postHistoryFile = \"preprocessed/PostHistory.parquet\"\n",
    "\n",
    "dfPostHistory = spark.read.parquet(s3BucketURI + postHistoryFile)"
   ]
  },
  {
   "cell_type": "code",
   "execution_count": 11,
   "id": "221d25ba-5571-462e-ade6-a1d7606764bf",
   "metadata": {
    "execution": {
     "iopub.execute_input": "2023-01-30T22:54:11.545487Z",
     "iopub.status.busy": "2023-01-30T22:54:11.545236Z",
     "iopub.status.idle": "2023-01-30T22:54:12.338865Z",
     "shell.execute_reply": "2023-01-30T22:54:12.333909Z",
     "shell.execute_reply.started": "2023-01-30T22:54:11.545452Z"
    }
   },
   "outputs": [
    {
     "data": {
      "application/vnd.jupyter.widget-view+json": {
       "model_id": "53dc6b796b29496ebc4c7f4d196b8b32",
       "version_major": 2,
       "version_minor": 0
      },
      "text/plain": [
       "VBox()"
      ]
     },
     "metadata": {},
     "output_type": "display_data"
    },
    {
     "data": {
      "application/vnd.jupyter.widget-view+json": {
       "model_id": "",
       "version_major": 2,
       "version_minor": 0
      },
      "text/plain": [
       "FloatProgress(value=0.0, bar_style='info', description='Progress:', layout=Layout(height='25px', width='50%'),…"
      ]
     },
     "metadata": {},
     "output_type": "display_data"
    }
   ],
   "source": [
    "postLinksFile = \"preprocessed/PostLinks.parquet\"\n",
    "\n",
    "dfPostLinks = spark.read.parquet(s3BucketURI + postLinksFile)"
   ]
  },
  {
   "cell_type": "code",
   "execution_count": 12,
   "id": "761d2d0d-54c4-41ce-bffb-45da1147663d",
   "metadata": {
    "execution": {
     "iopub.execute_input": "2023-01-30T22:54:12.342782Z",
     "iopub.status.busy": "2023-01-30T22:54:12.339990Z",
     "iopub.status.idle": "2023-01-30T22:54:13.249372Z",
     "shell.execute_reply": "2023-01-30T22:54:13.248721Z",
     "shell.execute_reply.started": "2023-01-30T22:54:12.342743Z"
    },
    "tags": []
   },
   "outputs": [
    {
     "data": {
      "application/vnd.jupyter.widget-view+json": {
       "model_id": "93e853b6a2a64d7ea6a837f812a309f1",
       "version_major": 2,
       "version_minor": 0
      },
      "text/plain": [
       "VBox()"
      ]
     },
     "metadata": {},
     "output_type": "display_data"
    },
    {
     "data": {
      "application/vnd.jupyter.widget-view+json": {
       "model_id": "",
       "version_major": 2,
       "version_minor": 0
      },
      "text/plain": [
       "FloatProgress(value=0.0, bar_style='info', description='Progress:', layout=Layout(height='25px', width='50%'),…"
      ]
     },
     "metadata": {},
     "output_type": "display_data"
    }
   ],
   "source": [
    "postsFile = \"preprocessed/Posts.parquet\"\n",
    "\n",
    "dfPosts = spark.read.parquet(s3BucketURI + postsFile)"
   ]
  },
  {
   "cell_type": "code",
   "execution_count": 13,
   "id": "c09eda05-00db-42f9-81ab-3898af0bdafa",
   "metadata": {
    "execution": {
     "iopub.execute_input": "2023-01-30T22:54:13.250460Z",
     "iopub.status.busy": "2023-01-30T22:54:13.250271Z",
     "iopub.status.idle": "2023-01-30T22:54:14.056872Z",
     "shell.execute_reply": "2023-01-30T22:54:14.056221Z",
     "shell.execute_reply.started": "2023-01-30T22:54:13.250438Z"
    },
    "tags": []
   },
   "outputs": [
    {
     "data": {
      "application/vnd.jupyter.widget-view+json": {
       "model_id": "11fc0289c3bf443d9352f8ca19625830",
       "version_major": 2,
       "version_minor": 0
      },
      "text/plain": [
       "VBox()"
      ]
     },
     "metadata": {},
     "output_type": "display_data"
    },
    {
     "data": {
      "application/vnd.jupyter.widget-view+json": {
       "model_id": "",
       "version_major": 2,
       "version_minor": 0
      },
      "text/plain": [
       "FloatProgress(value=0.0, bar_style='info', description='Progress:', layout=Layout(height='25px', width='50%'),…"
      ]
     },
     "metadata": {},
     "output_type": "display_data"
    }
   ],
   "source": [
    "tagsFile = \"preprocessed/Tags.parquet\"\n",
    "\n",
    "dfTags = spark.read.parquet(s3BucketURI + tagsFile)"
   ]
  },
  {
   "cell_type": "code",
   "execution_count": 14,
   "id": "272e0120-36be-4e1d-a9a3-5d94abd4b735",
   "metadata": {
    "execution": {
     "iopub.execute_input": "2023-01-30T22:54:14.057733Z",
     "iopub.status.busy": "2023-01-30T22:54:14.057582Z",
     "iopub.status.idle": "2023-01-30T22:54:14.880400Z",
     "shell.execute_reply": "2023-01-30T22:54:14.879650Z",
     "shell.execute_reply.started": "2023-01-30T22:54:14.057714Z"
    }
   },
   "outputs": [
    {
     "data": {
      "application/vnd.jupyter.widget-view+json": {
       "model_id": "87c6b7ce593f4566b007d5b2518cf8ef",
       "version_major": 2,
       "version_minor": 0
      },
      "text/plain": [
       "VBox()"
      ]
     },
     "metadata": {},
     "output_type": "display_data"
    },
    {
     "data": {
      "application/vnd.jupyter.widget-view+json": {
       "model_id": "",
       "version_major": 2,
       "version_minor": 0
      },
      "text/plain": [
       "FloatProgress(value=0.0, bar_style='info', description='Progress:', layout=Layout(height='25px', width='50%'),…"
      ]
     },
     "metadata": {},
     "output_type": "display_data"
    }
   ],
   "source": [
    "usersFile = \"preprocessed/Users.parquet\"\n",
    "\n",
    "dfUsers = spark.read.parquet(s3BucketURI + usersFile)"
   ]
  },
  {
   "cell_type": "code",
   "execution_count": 15,
   "id": "6a1206ed-9759-4772-bbff-c80b3f98d9b3",
   "metadata": {
    "execution": {
     "iopub.execute_input": "2023-01-30T22:54:14.881590Z",
     "iopub.status.busy": "2023-01-30T22:54:14.881402Z",
     "iopub.status.idle": "2023-01-30T22:54:15.718508Z",
     "shell.execute_reply": "2023-01-30T22:54:15.717792Z",
     "shell.execute_reply.started": "2023-01-30T22:54:14.881565Z"
    }
   },
   "outputs": [
    {
     "data": {
      "application/vnd.jupyter.widget-view+json": {
       "model_id": "6168d726f5764b5ca3a21d11523f474f",
       "version_major": 2,
       "version_minor": 0
      },
      "text/plain": [
       "VBox()"
      ]
     },
     "metadata": {},
     "output_type": "display_data"
    },
    {
     "data": {
      "application/vnd.jupyter.widget-view+json": {
       "model_id": "",
       "version_major": 2,
       "version_minor": 0
      },
      "text/plain": [
       "FloatProgress(value=0.0, bar_style='info', description='Progress:', layout=Layout(height='25px', width='50%'),…"
      ]
     },
     "metadata": {},
     "output_type": "display_data"
    }
   ],
   "source": [
    "votesFile = \"preprocessed/Votes.parquet\"\n",
    "\n",
    "dfVotes = spark.read.parquet(s3BucketURI + votesFile)"
   ]
  },
  {
   "cell_type": "markdown",
   "id": "ec23f66b-1ba8-41d6-85ca-a9108cf398ff",
   "metadata": {
    "tags": []
   },
   "source": [
    "# Distribution of posts in time"
   ]
  },
  {
   "cell_type": "code",
   "execution_count": 16,
   "id": "001b7db4-7e79-4d9e-a81a-e1f2d12fc5fc",
   "metadata": {
    "execution": {
     "iopub.execute_input": "2023-01-30T22:54:15.719461Z",
     "iopub.status.busy": "2023-01-30T22:54:15.719293Z",
     "iopub.status.idle": "2023-01-30T22:54:23.070261Z",
     "shell.execute_reply": "2023-01-30T22:54:23.069493Z",
     "shell.execute_reply.started": "2023-01-30T22:54:15.719439Z"
    },
    "tags": []
   },
   "outputs": [
    {
     "data": {
      "application/vnd.jupyter.widget-view+json": {
       "model_id": "c1440b9f317c436b94c6763c21b6c983",
       "version_major": 2,
       "version_minor": 0
      },
      "text/plain": [
       "VBox()"
      ]
     },
     "metadata": {},
     "output_type": "display_data"
    },
    {
     "data": {
      "application/vnd.jupyter.widget-view+json": {
       "model_id": "",
       "version_major": 2,
       "version_minor": 0
      },
      "text/plain": [
       "FloatProgress(value=0.0, bar_style='info', description='Progress:', layout=Layout(height='25px', width='50%'),…"
      ]
     },
     "metadata": {},
     "output_type": "display_data"
    }
   ],
   "source": [
    "postsInTime = dfPosts.groupBy(F.to_date('CreationDate').alias('Date')).count().orderBy('Date').toPandas()"
   ]
  },
  {
   "cell_type": "code",
   "execution_count": 17,
   "id": "853cd735-ecf9-4796-bf9f-c06467f28e36",
   "metadata": {
    "execution": {
     "iopub.execute_input": "2023-01-30T22:54:23.071779Z",
     "iopub.status.busy": "2023-01-30T22:54:23.071498Z",
     "iopub.status.idle": "2023-01-30T22:54:23.182967Z",
     "shell.execute_reply": "2023-01-30T22:54:23.182260Z",
     "shell.execute_reply.started": "2023-01-30T22:54:23.071742Z"
    },
    "tags": []
   },
   "outputs": [
    {
     "data": {
      "application/vnd.jupyter.widget-view+json": {
       "model_id": "67100a0cf8eb4d54b1281d5abf4d817f",
       "version_major": 2,
       "version_minor": 0
      },
      "text/plain": [
       "VBox()"
      ]
     },
     "metadata": {},
     "output_type": "display_data"
    },
    {
     "data": {
      "application/vnd.jupyter.widget-view+json": {
       "model_id": "",
       "version_major": 2,
       "version_minor": 0
      },
      "text/plain": [
       "FloatProgress(value=0.0, bar_style='info', description='Progress:', layout=Layout(height='25px', width='50%'),…"
      ]
     },
     "metadata": {},
     "output_type": "display_data"
    }
   ],
   "source": [
    "postsWIndex = postsInTime.set_index('Date')\n",
    "postsWIndex.index = pd.to_datetime(postsWIndex.index)"
   ]
  },
  {
   "cell_type": "code",
   "execution_count": 18,
   "id": "a05de5d3-5f61-47b5-931a-9ed9c4c27d4c",
   "metadata": {
    "execution": {
     "iopub.execute_input": "2023-01-30T22:54:23.184525Z",
     "iopub.status.busy": "2023-01-30T22:54:23.184128Z",
     "iopub.status.idle": "2023-01-30T22:54:23.811595Z",
     "shell.execute_reply": "2023-01-30T22:54:23.810788Z",
     "shell.execute_reply.started": "2023-01-30T22:54:23.184486Z"
    },
    "tags": []
   },
   "outputs": [
    {
     "data": {
      "application/vnd.jupyter.widget-view+json": {
       "model_id": "f2a334abf02f4798953953106e0563dd",
       "version_major": 2,
       "version_minor": 0
      },
      "text/plain": [
       "VBox()"
      ]
     },
     "metadata": {},
     "output_type": "display_data"
    },
    {
     "data": {
      "application/vnd.jupyter.widget-view+json": {
       "model_id": "",
       "version_major": 2,
       "version_minor": 0
      },
      "text/plain": [
       "FloatProgress(value=0.0, bar_style='info', description='Progress:', layout=Layout(height='25px', width='50%'),…"
      ]
     },
     "metadata": {},
     "output_type": "display_data"
    },
    {
     "data": {
      "image/png": "[encoded data removed]",
      "text/plain": [
       "<IPython.core.display.Image object>"
      ]
     },
     "metadata": {},
     "output_type": "display_data"
    }
   ],
   "source": [
    "postsWIndex.plot(y=\"count\", figsize=(10, 8), legend=False, grid=True)\n",
    "plt.xlabel('Data')\n",
    "plt.ylabel('Liczba postow')\n",
    "plt.title('Liczba postow na przestrzeni czasu, probkowanie co dzien')\n",
    "%matplot plt"
   ]
  },
  {
   "cell_type": "code",
   "execution_count": 19,
   "id": "ff81c8d6-1dc6-4d3f-af4a-ea1db0ccbc14",
   "metadata": {
    "execution": {
     "iopub.execute_input": "2023-01-30T22:54:23.812750Z",
     "iopub.status.busy": "2023-01-30T22:54:23.812565Z",
     "iopub.status.idle": "2023-01-30T22:54:23.883420Z",
     "shell.execute_reply": "2023-01-30T22:54:23.882738Z",
     "shell.execute_reply.started": "2023-01-30T22:54:23.812718Z"
    }
   },
   "outputs": [
    {
     "data": {
      "application/vnd.jupyter.widget-view+json": {
       "model_id": "fc25726581c34c69aeb7ae4da5070b19",
       "version_major": 2,
       "version_minor": 0
      },
      "text/plain": [
       "VBox()"
      ]
     },
     "metadata": {},
     "output_type": "display_data"
    },
    {
     "data": {
      "application/vnd.jupyter.widget-view+json": {
       "model_id": "",
       "version_major": 2,
       "version_minor": 0
      },
      "text/plain": [
       "FloatProgress(value=0.0, bar_style='info', description='Progress:', layout=Layout(height='25px', width='50%'),…"
      ]
     },
     "metadata": {},
     "output_type": "display_data"
    }
   ],
   "source": [
    "postsResampled = postsWIndex.resample('1M').sum()"
   ]
  },
  {
   "cell_type": "code",
   "execution_count": 20,
   "id": "bf171f10-5d78-49e4-803b-c91bf148d43e",
   "metadata": {
    "execution": {
     "iopub.execute_input": "2023-01-30T22:54:23.884551Z",
     "iopub.status.busy": "2023-01-30T22:54:23.884353Z",
     "iopub.status.idle": "2023-01-30T22:54:24.180354Z",
     "shell.execute_reply": "2023-01-30T22:54:24.179446Z",
     "shell.execute_reply.started": "2023-01-30T22:54:23.884527Z"
    },
    "tags": []
   },
   "outputs": [
    {
     "data": {
      "application/vnd.jupyter.widget-view+json": {
       "model_id": "ea7e5136952f4fa2abe6676b69f608b1",
       "version_major": 2,
       "version_minor": 0
      },
      "text/plain": [
       "VBox()"
      ]
     },
     "metadata": {},
     "output_type": "display_data"
    },
    {
     "data": {
      "application/vnd.jupyter.widget-view+json": {
       "model_id": "",
       "version_major": 2,
       "version_minor": 0
      },
      "text/plain": [
       "FloatProgress(value=0.0, bar_style='info', description='Progress:', layout=Layout(height='25px', width='50%'),…"
      ]
     },
     "metadata": {},
     "output_type": "display_data"
    },
    {
     "data": {
      "image/png": "[encoded data removed]",
      "text/plain": [
       "<IPython.core.display.Image object>"
      ]
     },
     "metadata": {},
     "output_type": "display_data"
    }
   ],
   "source": [
    "postsResampled.plot(y=\"count\", figsize=(10, 8), legend=False, grid=True)\n",
    "plt.xlabel('Data')\n",
    "plt.ylabel('Liczba postow')\n",
    "plt.title('Liczba postow na przestrzeni czasu, probkowanie co miesiac')\n",
    "%matplot plt"
   ]
  },
  {
   "cell_type": "code",
   "execution_count": null,
   "id": "baf43742-7628-4226-b713-cbc092bc6edd",
   "metadata": {},
   "outputs": [],
   "source": []
  },
  {
   "cell_type": "markdown",
   "id": "16502bdc-9a2d-4c24-b31c-12d6d78878fa",
   "metadata": {
    "tags": []
   },
   "source": [
    "# Time on forum of 10 most active users"
   ]
  },
  {
   "cell_type": "code",
   "execution_count": 21,
   "id": "52262047-de21-4432-9e6c-c86db93e045c",
   "metadata": {
    "execution": {
     "iopub.execute_input": "2023-01-30T22:54:24.181941Z",
     "iopub.status.busy": "2023-01-30T22:54:24.181663Z",
     "iopub.status.idle": "2023-01-30T22:54:24.955890Z",
     "shell.execute_reply": "2023-01-30T22:54:24.955280Z",
     "shell.execute_reply.started": "2023-01-30T22:54:24.181904Z"
    },
    "tags": []
   },
   "outputs": [
    {
     "data": {
      "application/vnd.jupyter.widget-view+json": {
       "model_id": "c5a0ea873e7c4e4890925d22644bddaf",
       "version_major": 2,
       "version_minor": 0
      },
      "text/plain": [
       "VBox()"
      ]
     },
     "metadata": {},
     "output_type": "display_data"
    },
    {
     "data": {
      "application/vnd.jupyter.widget-view+json": {
       "model_id": "",
       "version_major": 2,
       "version_minor": 0
      },
      "text/plain": [
       "FloatProgress(value=0.0, bar_style='info', description='Progress:', layout=Layout(height='25px', width='50%'),…"
      ]
     },
     "metadata": {},
     "output_type": "display_data"
    }
   ],
   "source": [
    "postCountByUser = dfPosts.where(F.col('PostTypeID').isin([1,2]))\\\n",
    "                    .where(F.col('OwnerUserID').isNotNull())\\\n",
    "                    .groupBy('OwnerUserID').count().withColumnRenamed('count', 'PostCount')"
   ]
  },
  {
   "cell_type": "code",
   "execution_count": 22,
   "id": "6ea92e96-f618-4854-b5e6-9dcb8da36b09",
   "metadata": {
    "execution": {
     "iopub.execute_input": "2023-01-30T22:54:24.957030Z",
     "iopub.status.busy": "2023-01-30T22:54:24.956847Z",
     "iopub.status.idle": "2023-01-30T22:54:25.225970Z",
     "shell.execute_reply": "2023-01-30T22:54:25.225338Z",
     "shell.execute_reply.started": "2023-01-30T22:54:24.957009Z"
    },
    "tags": []
   },
   "outputs": [
    {
     "data": {
      "application/vnd.jupyter.widget-view+json": {
       "model_id": "fb47bb74513d40278194517ef026c103",
       "version_major": 2,
       "version_minor": 0
      },
      "text/plain": [
       "VBox()"
      ]
     },
     "metadata": {},
     "output_type": "display_data"
    },
    {
     "data": {
      "application/vnd.jupyter.widget-view+json": {
       "model_id": "",
       "version_major": 2,
       "version_minor": 0
      },
      "text/plain": [
       "FloatProgress(value=0.0, bar_style='info', description='Progress:', layout=Layout(height='25px', width='50%'),…"
      ]
     },
     "metadata": {},
     "output_type": "display_data"
    }
   ],
   "source": [
    "commentCountByUser = dfComments.where(F.col('UserID').isNotNull())\\\n",
    "                    .groupBy('UserID').count().withColumnRenamed('count', 'CommentCount')\n",
    "commentCountByUserBD = F.broadcast(commentCountByUser)"
   ]
  },
  {
   "cell_type": "code",
   "execution_count": 23,
   "id": "a913fdfd-0df3-4f0b-8b0a-20852dc6a9fa",
   "metadata": {
    "execution": {
     "iopub.execute_input": "2023-01-30T22:54:25.231229Z",
     "iopub.status.busy": "2023-01-30T22:54:25.231023Z",
     "iopub.status.idle": "2023-01-30T22:54:25.547531Z",
     "shell.execute_reply": "2023-01-30T22:54:25.546793Z",
     "shell.execute_reply.started": "2023-01-30T22:54:25.231204Z"
    },
    "tags": []
   },
   "outputs": [
    {
     "data": {
      "application/vnd.jupyter.widget-view+json": {
       "model_id": "8c10cd442c3f4f67b9521986dc43982e",
       "version_major": 2,
       "version_minor": 0
      },
      "text/plain": [
       "VBox()"
      ]
     },
     "metadata": {},
     "output_type": "display_data"
    },
    {
     "data": {
      "application/vnd.jupyter.widget-view+json": {
       "model_id": "",
       "version_major": 2,
       "version_minor": 0
      },
      "text/plain": [
       "FloatProgress(value=0.0, bar_style='info', description='Progress:', layout=Layout(height='25px', width='50%'),…"
      ]
     },
     "metadata": {},
     "output_type": "display_data"
    }
   ],
   "source": [
    "totalByUser = postCountByUser.join(commentCountByUserBD, postCountByUser.OwnerUserID == commentCountByUserBD.UserID, 'full')\\\n",
    "                                .fillna(value=0, subset=['PostCount','CommentCount'])\\\n",
    "                                .withColumn('Total', F.col('PostCount') + F.col('CommentCount'))\\\n",
    "                                .select('OwnerUserID', 'Total').orderBy('Total', ascending=False).limit(10)\n",
    "\n",
    "totalByUserBD = F.broadcast(totalByUser)"
   ]
  },
  {
   "cell_type": "code",
   "execution_count": 24,
   "id": "d9f39c3a-11a7-45ec-ac25-c6c1411a966d",
   "metadata": {
    "execution": {
     "iopub.execute_input": "2023-01-30T22:54:25.550550Z",
     "iopub.status.busy": "2023-01-30T22:54:25.550045Z",
     "iopub.status.idle": "2023-01-30T22:54:31.062310Z",
     "shell.execute_reply": "2023-01-30T22:54:31.061672Z",
     "shell.execute_reply.started": "2023-01-30T22:54:25.550505Z"
    },
    "tags": []
   },
   "outputs": [
    {
     "data": {
      "application/vnd.jupyter.widget-view+json": {
       "model_id": "26fe4ee5f1214783a68b094bbb69e921",
       "version_major": 2,
       "version_minor": 0
      },
      "text/plain": [
       "VBox()"
      ]
     },
     "metadata": {},
     "output_type": "display_data"
    },
    {
     "data": {
      "application/vnd.jupyter.widget-view+json": {
       "model_id": "",
       "version_major": 2,
       "version_minor": 0
      },
      "text/plain": [
       "FloatProgress(value=0.0, bar_style='info', description='Progress:', layout=Layout(height='25px', width='50%'),…"
      ]
     },
     "metadata": {},
     "output_type": "display_data"
    },
    {
     "name": "stdout",
     "output_type": "stream",
     "text": [
      "[2444, 1847, 1671, 18758, 1641, 36821, 16909, 2193, 34098, 26726]"
     ]
    }
   ],
   "source": [
    "usersList = [data[0] for data in totalByUser.select('OwnerUserID').collect()]\n",
    "usersList"
   ]
  },
  {
   "cell_type": "code",
   "execution_count": 25,
   "id": "560ad8de-8c5f-465c-843c-44f9adf9b2fb",
   "metadata": {
    "execution": {
     "iopub.execute_input": "2023-01-30T22:54:31.063377Z",
     "iopub.status.busy": "2023-01-30T22:54:31.063202Z",
     "iopub.status.idle": "2023-01-30T22:54:31.349522Z",
     "shell.execute_reply": "2023-01-30T22:54:31.348918Z",
     "shell.execute_reply.started": "2023-01-30T22:54:31.063355Z"
    },
    "tags": []
   },
   "outputs": [
    {
     "data": {
      "application/vnd.jupyter.widget-view+json": {
       "model_id": "41b84410b484405b95732b11237784ad",
       "version_major": 2,
       "version_minor": 0
      },
      "text/plain": [
       "VBox()"
      ]
     },
     "metadata": {},
     "output_type": "display_data"
    },
    {
     "data": {
      "application/vnd.jupyter.widget-view+json": {
       "model_id": "",
       "version_major": 2,
       "version_minor": 0
      },
      "text/plain": [
       "FloatProgress(value=0.0, bar_style='info', description='Progress:', layout=Layout(height='25px', width='50%'),…"
      ]
     },
     "metadata": {},
     "output_type": "display_data"
    }
   ],
   "source": [
    "top10Users1 = dfUsers.join(totalByUserBD, dfUsers.ID == totalByUserBD.OwnerUserID, 'right')\\\n",
    "                    .select('ID', 'DisplayName', 'Total', 'CreationDate')"
   ]
  },
  {
   "cell_type": "code",
   "execution_count": 26,
   "id": "e6d6253b-40c3-4851-903a-9189daae9ead",
   "metadata": {
    "execution": {
     "iopub.execute_input": "2023-01-30T22:54:31.350688Z",
     "iopub.status.busy": "2023-01-30T22:54:31.350492Z",
     "iopub.status.idle": "2023-01-30T22:54:31.613354Z",
     "shell.execute_reply": "2023-01-30T22:54:31.612576Z",
     "shell.execute_reply.started": "2023-01-30T22:54:31.350664Z"
    },
    "tags": []
   },
   "outputs": [
    {
     "data": {
      "application/vnd.jupyter.widget-view+json": {
       "model_id": "5e6fd55396f8446bac54168ecaec71d5",
       "version_major": 2,
       "version_minor": 0
      },
      "text/plain": [
       "VBox()"
      ]
     },
     "metadata": {},
     "output_type": "display_data"
    },
    {
     "data": {
      "application/vnd.jupyter.widget-view+json": {
       "model_id": "",
       "version_major": 2,
       "version_minor": 0
      },
      "text/plain": [
       "FloatProgress(value=0.0, bar_style='info', description='Progress:', layout=Layout(height='25px', width='50%'),…"
      ]
     },
     "metadata": {},
     "output_type": "display_data"
    }
   ],
   "source": [
    "windowSpec = Window.partitionBy('OwnerUserID').orderBy('OwnerUserID',\n",
    "                                                       F.desc('CreationDate'))\n",
    "\n",
    "latestPost = dfPosts.where(F.col('OwnerUserID').isin(usersList)).withColumn('rn', F.row_number().over(windowSpec))\\\n",
    "                    .filter(F.col('rn')==1).drop(F.col('rn'))\\\n",
    "                    .select(F.col('OwnerUserID').alias('ID'), F.col('CreationDate').alias('LastPostCreationDate'))\n",
    "\n",
    "latestPostBD = F.broadcast(latestPost)"
   ]
  },
  {
   "cell_type": "code",
   "execution_count": 27,
   "id": "ac8137df-5c1e-47a2-b025-8f1625910f45",
   "metadata": {
    "execution": {
     "iopub.execute_input": "2023-01-30T22:54:31.614620Z",
     "iopub.status.busy": "2023-01-30T22:54:31.614427Z",
     "iopub.status.idle": "2023-01-30T22:54:31.891854Z",
     "shell.execute_reply": "2023-01-30T22:54:31.890791Z",
     "shell.execute_reply.started": "2023-01-30T22:54:31.614597Z"
    },
    "tags": []
   },
   "outputs": [
    {
     "data": {
      "application/vnd.jupyter.widget-view+json": {
       "model_id": "2d1e761001e44920ba6719ae739dbe58",
       "version_major": 2,
       "version_minor": 0
      },
      "text/plain": [
       "VBox()"
      ]
     },
     "metadata": {},
     "output_type": "display_data"
    },
    {
     "data": {
      "application/vnd.jupyter.widget-view+json": {
       "model_id": "",
       "version_major": 2,
       "version_minor": 0
      },
      "text/plain": [
       "FloatProgress(value=0.0, bar_style='info', description='Progress:', layout=Layout(height='25px', width='50%'),…"
      ]
     },
     "metadata": {},
     "output_type": "display_data"
    }
   ],
   "source": [
    "windowSpec = Window.partitionBy('UserID').orderBy('UserID',\n",
    "                                                  F.desc('CreationDate'))\n",
    "\n",
    "latestComment = dfComments.where(F.col('UserID').isin(usersList)).withColumn('rn', F.row_number().over(windowSpec))\\\n",
    "                    .filter(F.col('rn')==1).drop(F.col('rn'))\\\n",
    "                    .select(F.col('UserID').alias('ID'), F.col('CreationDate').alias('LastCommentCreationDate'))\n",
    "\n",
    "latestCommentBD = F.broadcast(latestComment)"
   ]
  },
  {
   "cell_type": "code",
   "execution_count": 28,
   "id": "a5cfc876-63a8-44a4-9253-c4159fd8d170",
   "metadata": {
    "execution": {
     "iopub.execute_input": "2023-01-30T22:54:31.893410Z",
     "iopub.status.busy": "2023-01-30T22:54:31.893136Z",
     "iopub.status.idle": "2023-01-30T22:54:32.168757Z",
     "shell.execute_reply": "2023-01-30T22:54:32.167947Z",
     "shell.execute_reply.started": "2023-01-30T22:54:31.893370Z"
    },
    "tags": []
   },
   "outputs": [
    {
     "data": {
      "application/vnd.jupyter.widget-view+json": {
       "model_id": "770d60bb64bb4146b744221e485d11b3",
       "version_major": 2,
       "version_minor": 0
      },
      "text/plain": [
       "VBox()"
      ]
     },
     "metadata": {},
     "output_type": "display_data"
    },
    {
     "data": {
      "application/vnd.jupyter.widget-view+json": {
       "model_id": "",
       "version_major": 2,
       "version_minor": 0
      },
      "text/plain": [
       "FloatProgress(value=0.0, bar_style='info', description='Progress:', layout=Layout(height='25px', width='50%'),…"
      ]
     },
     "metadata": {},
     "output_type": "display_data"
    }
   ],
   "source": [
    "top10Users2 = top10Users1.join(latestPostBD, ['ID'], 'full')"
   ]
  },
  {
   "cell_type": "code",
   "execution_count": 29,
   "id": "1b12dc4e-ffd1-4550-85d8-efe46bb3fe9a",
   "metadata": {
    "execution": {
     "iopub.execute_input": "2023-01-30T22:54:32.171984Z",
     "iopub.status.busy": "2023-01-30T22:54:32.171718Z",
     "iopub.status.idle": "2023-01-30T22:54:41.525164Z",
     "shell.execute_reply": "2023-01-30T22:54:41.524317Z",
     "shell.execute_reply.started": "2023-01-30T22:54:32.171949Z"
    },
    "tags": []
   },
   "outputs": [
    {
     "data": {
      "application/vnd.jupyter.widget-view+json": {
       "model_id": "3f711182b2d647a397697b3cfc698d81",
       "version_major": 2,
       "version_minor": 0
      },
      "text/plain": [
       "VBox()"
      ]
     },
     "metadata": {},
     "output_type": "display_data"
    },
    {
     "data": {
      "application/vnd.jupyter.widget-view+json": {
       "model_id": "",
       "version_major": 2,
       "version_minor": 0
      },
      "text/plain": [
       "FloatProgress(value=0.0, bar_style='info', description='Progress:', layout=Layout(height='25px', width='50%'),…"
      ]
     },
     "metadata": {},
     "output_type": "display_data"
    }
   ],
   "source": [
    "top10Users = top10Users2.join(latestCommentBD, ['ID'], 'full').orderBy('Total', ascending=False)\\\n",
    "                        .withColumn('LastActivityTime', F.greatest(F.col('LastPostCreationDate'), F.col('LastCommentCreationDate')))\\\n",
    "                        .drop('LastPostCreationDate', 'LastCommentCreationDate')\\\n",
    "                        .withColumn('Time on forum', F.unix_timestamp(F.col('LastActivityTime')) - F.unix_timestamp(F.col('CreationDate')))\\\n",
    "                        .limit(10)\n",
    "\n",
    "top10UsersPD = top10Users.toPandas()"
   ]
  },
  {
   "cell_type": "code",
   "execution_count": 94,
   "id": "1f6e1e9f-2b14-4b7d-9367-4abd3610bf5e",
   "metadata": {
    "execution": {
     "iopub.execute_input": "2023-01-30T22:58:29.322021Z",
     "iopub.status.busy": "2023-01-30T22:58:29.321789Z",
     "iopub.status.idle": "2023-01-30T22:58:29.588587Z",
     "shell.execute_reply": "2023-01-30T22:58:29.587814Z",
     "shell.execute_reply.started": "2023-01-30T22:58:29.321997Z"
    },
    "tags": []
   },
   "outputs": [
    {
     "data": {
      "application/vnd.jupyter.widget-view+json": {
       "model_id": "3b0d1153240244f58ffae452252402c9",
       "version_major": 2,
       "version_minor": 0
      },
      "text/plain": [
       "VBox()"
      ]
     },
     "metadata": {},
     "output_type": "display_data"
    },
    {
     "data": {
      "application/vnd.jupyter.widget-view+json": {
       "model_id": "",
       "version_major": 2,
       "version_minor": 0
      },
      "text/plain": [
       "FloatProgress(value=0.0, bar_style='info', description='Progress:', layout=Layout(height='25px', width='50%'),…"
      ]
     },
     "metadata": {},
     "output_type": "display_data"
    }
   ],
   "source": [
    "top10wActivityPerDay = top10Users.withColumn('Time on forum', (F.col('Time on forum')/86400).cast(IntegerType()))\\\n",
    "            .withColumn('Activity per day', F.round((F.col('Total') / F.col('Time on forum')), 2))"
   ]
  },
  {
   "cell_type": "code",
   "execution_count": 95,
   "id": "39533f15-78e1-4254-b3dc-6a797013fd37",
   "metadata": {
    "execution": {
     "iopub.execute_input": "2023-01-30T22:58:37.481021Z",
     "iopub.status.busy": "2023-01-30T22:58:37.480752Z",
     "iopub.status.idle": "2023-01-30T22:58:42.814994Z",
     "shell.execute_reply": "2023-01-30T22:58:42.814220Z",
     "shell.execute_reply.started": "2023-01-30T22:58:37.480996Z"
    }
   },
   "outputs": [
    {
     "data": {
      "application/vnd.jupyter.widget-view+json": {
       "model_id": "fb42c2145bbb43e9ad2cf36d7bf41102",
       "version_major": 2,
       "version_minor": 0
      },
      "text/plain": [
       "VBox()"
      ]
     },
     "metadata": {},
     "output_type": "display_data"
    },
    {
     "data": {
      "application/vnd.jupyter.widget-view+json": {
       "model_id": "",
       "version_major": 2,
       "version_minor": 0
      },
      "text/plain": [
       "FloatProgress(value=0.0, bar_style='info', description='Progress:', layout=Layout(height='25px', width='50%'),…"
      ]
     },
     "metadata": {},
     "output_type": "display_data"
    },
    {
     "name": "stdout",
     "output_type": "stream",
     "text": [
      "+-----+-----------------+-----+--------------------+--------------------+-------------+----------------+\n",
      "|   ID|      DisplayName|Total|        CreationDate|    LastActivityTime|Time on forum|Activity per day|\n",
      "+-----+-----------------+-----+--------------------+--------------------+-------------+----------------+\n",
      "| 2444|             nbro| 4636|2016-09-15 18:13:...|2022-07-12 15:11:...|         2125|            2.18|\n",
      "| 1847|      Neil Slater| 2230|2016-08-30 08:06:...|2022-11-28 07:33:...|         2280|            0.98|\n",
      "| 1671|         DukeZhou|  778|2016-08-24 01:26:...|2021-10-29 23:07:...|         1892|            0.41|\n",
      "|18758|           hanugm|  548|2018-10-04 13:21:...|2022-08-03 12:09:...|         1398|            0.39|\n",
      "| 1641|   Dennis Soemers|  459|2016-08-23 10:50:...|2022-12-04 16:06:...|         2294|             0.2|\n",
      "|36821|    David Ireland|  386|2020-05-07 09:38:...|2022-11-16 11:46:...|          923|            0.42|\n",
      "|16909|    John Doucette|  374|2018-07-16 18:14:...|2021-01-17 00:30:...|          915|            0.41|\n",
      "| 2193|     Oliver Mason|  343|2016-09-05 13:40:...|2022-11-23 08:55:...|         2269|            0.15|\n",
      "|34098|Edoardo Guerriero|  317|2020-03-07 23:31:...|2022-12-02 13:36:...|          999|            0.32|\n",
      "|26726|        Recessive|  268|2019-06-28 02:51:...|2022-10-13 02:26:...|         1202|            0.22|\n",
      "+-----+-----------------+-----+--------------------+--------------------+-------------+----------------+"
     ]
    }
   ],
   "source": [
    "top10wActivityPerDay.show()"
   ]
  },
  {
   "cell_type": "code",
   "execution_count": 31,
   "id": "77b3c6c9-1cde-491d-97fa-0191583faa0f",
   "metadata": {
    "execution": {
     "iopub.execute_input": "2023-01-30T22:54:46.908004Z",
     "iopub.status.busy": "2023-01-30T22:54:46.907801Z",
     "iopub.status.idle": "2023-01-30T22:54:47.026907Z",
     "shell.execute_reply": "2023-01-30T22:54:47.025877Z",
     "shell.execute_reply.started": "2023-01-30T22:54:46.907981Z"
    },
    "tags": []
   },
   "outputs": [
    {
     "data": {
      "application/vnd.jupyter.widget-view+json": {
       "model_id": "c4956211bbdc4ed799a281e832d03763",
       "version_major": 2,
       "version_minor": 0
      },
      "text/plain": [
       "VBox()"
      ]
     },
     "metadata": {},
     "output_type": "display_data"
    },
    {
     "data": {
      "application/vnd.jupyter.widget-view+json": {
       "model_id": "",
       "version_major": 2,
       "version_minor": 0
      },
      "text/plain": [
       "FloatProgress(value=0.0, bar_style='info', description='Progress:', layout=Layout(height='25px', width='50%'),…"
      ]
     },
     "metadata": {},
     "output_type": "display_data"
    }
   ],
   "source": [
    "top10UsersPD['Time on forum (in days)'] = (top10UsersPD['Time on forum'] // 86400)"
   ]
  },
  {
   "cell_type": "code",
   "execution_count": 32,
   "id": "fd28d91c-c23a-4819-989e-5bdb4f1410d7",
   "metadata": {
    "execution": {
     "iopub.execute_input": "2023-01-30T22:54:47.029727Z",
     "iopub.status.busy": "2023-01-30T22:54:47.029549Z",
     "iopub.status.idle": "2023-01-30T22:54:47.372436Z",
     "shell.execute_reply": "2023-01-30T22:54:47.371652Z",
     "shell.execute_reply.started": "2023-01-30T22:54:47.029705Z"
    },
    "tags": []
   },
   "outputs": [
    {
     "data": {
      "application/vnd.jupyter.widget-view+json": {
       "model_id": "03733e1cdd7f4dbfa2bfe6122a9df746",
       "version_major": 2,
       "version_minor": 0
      },
      "text/plain": [
       "VBox()"
      ]
     },
     "metadata": {},
     "output_type": "display_data"
    },
    {
     "data": {
      "application/vnd.jupyter.widget-view+json": {
       "model_id": "",
       "version_major": 2,
       "version_minor": 0
      },
      "text/plain": [
       "FloatProgress(value=0.0, bar_style='info', description='Progress:', layout=Layout(height='25px', width='50%'),…"
      ]
     },
     "metadata": {},
     "output_type": "display_data"
    },
    {
     "data": {
      "image/png": "[encoded data removed]",
      "text/plain": [
       "<IPython.core.display.Image object>"
      ]
     },
     "metadata": {},
     "output_type": "display_data"
    }
   ],
   "source": [
    "fig, ax = plt.subplots()\n",
    "top10UsersPD.plot(x='DisplayName',\\\n",
    "                y='Time on forum (in days)',\\\n",
    "                ax=ax,\\\n",
    "                kind='barh',\\\n",
    "                xlim=(0, 2500),\\\n",
    "                legend=False,\\\n",
    "                grid=True,\\\n",
    "                figsize=(13, 7))\n",
    "plt.ylabel('Nazwa uzytkownika')\n",
    "plt.xlabel('Czas na forum (w dniach)')\n",
    "ax.invert_yaxis()\n",
    "%matplot plt"
   ]
  },
  {
   "cell_type": "code",
   "execution_count": null,
   "id": "e9cf07a7-011e-460c-9bcd-d61d1baddb99",
   "metadata": {},
   "outputs": [],
   "source": []
  },
  {
   "cell_type": "markdown",
   "id": "e61b9398-168e-4aff-9927-346b61d7ae0c",
   "metadata": {
    "tags": []
   },
   "source": [
    "# Highest and lowest rated questions comparison"
   ]
  },
  {
   "cell_type": "code",
   "execution_count": 33,
   "id": "bc3c4322-9e50-423b-a84e-a764ca3c046b",
   "metadata": {
    "execution": {
     "iopub.execute_input": "2023-01-30T22:54:47.373802Z",
     "iopub.status.busy": "2023-01-30T22:54:47.373444Z",
     "iopub.status.idle": "2023-01-30T22:54:47.647610Z",
     "shell.execute_reply": "2023-01-30T22:54:47.647044Z",
     "shell.execute_reply.started": "2023-01-30T22:54:47.373764Z"
    },
    "tags": []
   },
   "outputs": [
    {
     "data": {
      "application/vnd.jupyter.widget-view+json": {
       "model_id": "0eceb1b549624bb194bbc37bd7ca131f",
       "version_major": 2,
       "version_minor": 0
      },
      "text/plain": [
       "VBox()"
      ]
     },
     "metadata": {},
     "output_type": "display_data"
    },
    {
     "data": {
      "application/vnd.jupyter.widget-view+json": {
       "model_id": "",
       "version_major": 2,
       "version_minor": 0
      },
      "text/plain": [
       "FloatProgress(value=0.0, bar_style='info', description='Progress:', layout=Layout(height='25px', width='50%'),…"
      ]
     },
     "metadata": {},
     "output_type": "display_data"
    }
   ],
   "source": [
    "highestRated = dfPosts.where(F.col('PostTypeID')==1).orderBy('Score', ascending=False).limit(5).withColumn('PostLength', F.length('Body'))\\\n",
    "        .select('ID', 'Score', 'PostLength', 'Tags', 'AnswerCount')"
   ]
  },
  {
   "cell_type": "code",
   "execution_count": 34,
   "id": "5402fb71-b2e7-4ca9-8cba-8ccfaf2084b3",
   "metadata": {
    "execution": {
     "iopub.execute_input": "2023-01-30T22:54:47.648600Z",
     "iopub.status.busy": "2023-01-30T22:54:47.648402Z",
     "iopub.status.idle": "2023-01-30T22:54:50.975557Z",
     "shell.execute_reply": "2023-01-30T22:54:50.972187Z",
     "shell.execute_reply.started": "2023-01-30T22:54:47.648577Z"
    },
    "tags": []
   },
   "outputs": [
    {
     "data": {
      "application/vnd.jupyter.widget-view+json": {
       "model_id": "615930c0f62e4476a3a4c651089a4d67",
       "version_major": 2,
       "version_minor": 0
      },
      "text/plain": [
       "VBox()"
      ]
     },
     "metadata": {},
     "output_type": "display_data"
    },
    {
     "data": {
      "application/vnd.jupyter.widget-view+json": {
       "model_id": "",
       "version_major": 2,
       "version_minor": 0
      },
      "text/plain": [
       "FloatProgress(value=0.0, bar_style='info', description='Progress:', layout=Layout(height='25px', width='50%'),…"
      ]
     },
     "metadata": {},
     "output_type": "display_data"
    },
    {
     "name": "stdout",
     "output_type": "stream",
     "text": [
      "-RECORD 0-------------------------------------------------------------------------------------------------------------\n",
      " ID          | 1768                                                                                                   \n",
      " Score       | 175                                                                                                    \n",
      " PostLength  | 356                                                                                                    \n",
      " Tags        | [philosophy, decision-theory, mythology-of-ai, death]                                                  \n",
      " AnswerCount | 12                                                                                                     \n",
      "-RECORD 1-------------------------------------------------------------------------------------------------------------\n",
      " ID          | 111                                                                                                    \n",
      " Score       | 100                                                                                                    \n",
      " PostLength  | 1318                                                                                                   \n",
      " Tags        | [philosophy, ethics, autonomous-vehicles, decision-theory]                                             \n",
      " AnswerCount | 14                                                                                                     \n",
      "-RECORD 2-------------------------------------------------------------------------------------------------------------\n",
      " ID          | 35                                                                                                     \n",
      " Score       | 97                                                                                                     \n",
      " PostLength  | 253                                                                                                    \n",
      " Tags        | [machine-learning, comparison, terminology, ai-field]                                                  \n",
      " AnswerCount | 9                                                                                                      \n",
      "-RECORD 3-------------------------------------------------------------------------------------------------------------\n",
      " ID          | 1479                                                                                                   \n",
      " Score       | 94                                                                                                     \n",
      " PostLength  | 534                                                                                                    \n",
      " Tags        | [neural-networks, deep-learning, convolutional-neural-networks, explainable-ai]                        \n",
      " AnswerCount | 7                                                                                                      \n",
      "-RECORD 4-------------------------------------------------------------------------------------------------------------\n",
      " ID          | 10623                                                                                                  \n",
      " Score       | 91                                                                                                     \n",
      " PostLength  | 100                                                                                                    \n",
      " Tags        | [machine-learning, comparison, supervised-learning, self-supervised-learning, representation-learning] \n",
      " AnswerCount | 3"
     ]
    }
   ],
   "source": [
    "highestRated.show(truncate=False, vertical=True)"
   ]
  },
  {
   "cell_type": "code",
   "execution_count": 35,
   "id": "9bbb1203-c2a3-4634-9c39-2595b46beb0c",
   "metadata": {
    "execution": {
     "iopub.execute_input": "2023-01-30T22:54:50.976956Z",
     "iopub.status.busy": "2023-01-30T22:54:50.976539Z",
     "iopub.status.idle": "2023-01-30T22:54:51.442020Z",
     "shell.execute_reply": "2023-01-30T22:54:51.441353Z",
     "shell.execute_reply.started": "2023-01-30T22:54:50.976916Z"
    },
    "tags": []
   },
   "outputs": [
    {
     "data": {
      "application/vnd.jupyter.widget-view+json": {
       "model_id": "d689209c636145e6af425c8f092a4112",
       "version_major": 2,
       "version_minor": 0
      },
      "text/plain": [
       "VBox()"
      ]
     },
     "metadata": {},
     "output_type": "display_data"
    },
    {
     "data": {
      "application/vnd.jupyter.widget-view+json": {
       "model_id": "",
       "version_major": 2,
       "version_minor": 0
      },
      "text/plain": [
       "FloatProgress(value=0.0, bar_style='info', description='Progress:', layout=Layout(height='25px', width='50%'),…"
      ]
     },
     "metadata": {},
     "output_type": "display_data"
    }
   ],
   "source": [
    "highestStats = highestRated.agg(F.round(F.mean('PostLength'), 2).alias('Mean post length'),\\\n",
    "                F.round(F.stddev('PostLength'), 2).alias('Post length standard deviation'))"
   ]
  },
  {
   "cell_type": "code",
   "execution_count": 36,
   "id": "468857b3-ed8b-4e46-8adb-c846a8ef069e",
   "metadata": {
    "execution": {
     "iopub.execute_input": "2023-01-30T22:54:51.443555Z",
     "iopub.status.busy": "2023-01-30T22:54:51.443159Z",
     "iopub.status.idle": "2023-01-30T22:54:52.803141Z",
     "shell.execute_reply": "2023-01-30T22:54:52.802406Z",
     "shell.execute_reply.started": "2023-01-30T22:54:51.443518Z"
    },
    "tags": []
   },
   "outputs": [
    {
     "data": {
      "application/vnd.jupyter.widget-view+json": {
       "model_id": "a9be56cb99d24efaaf8f8f9ecd97f935",
       "version_major": 2,
       "version_minor": 0
      },
      "text/plain": [
       "VBox()"
      ]
     },
     "metadata": {},
     "output_type": "display_data"
    },
    {
     "data": {
      "application/vnd.jupyter.widget-view+json": {
       "model_id": "",
       "version_major": 2,
       "version_minor": 0
      },
      "text/plain": [
       "FloatProgress(value=0.0, bar_style='info', description='Progress:', layout=Layout(height='25px', width='50%'),…"
      ]
     },
     "metadata": {},
     "output_type": "display_data"
    },
    {
     "name": "stdout",
     "output_type": "stream",
     "text": [
      "+----------------+------------------------------+\n",
      "|Mean post length|Post length standard deviation|\n",
      "+----------------+------------------------------+\n",
      "|           512.2|                        477.31|\n",
      "+----------------+------------------------------+"
     ]
    }
   ],
   "source": [
    "highestStats.show()"
   ]
  },
  {
   "cell_type": "code",
   "execution_count": 37,
   "id": "5160952f-6b89-418a-b2ff-a00ac669954b",
   "metadata": {
    "execution": {
     "iopub.execute_input": "2023-01-30T22:54:52.804243Z",
     "iopub.status.busy": "2023-01-30T22:54:52.804047Z",
     "iopub.status.idle": "2023-01-30T22:54:53.068386Z",
     "shell.execute_reply": "2023-01-30T22:54:53.067837Z",
     "shell.execute_reply.started": "2023-01-30T22:54:52.804219Z"
    },
    "tags": []
   },
   "outputs": [
    {
     "data": {
      "application/vnd.jupyter.widget-view+json": {
       "model_id": "253fdb82d8014bb09b1653f589eec6ce",
       "version_major": 2,
       "version_minor": 0
      },
      "text/plain": [
       "VBox()"
      ]
     },
     "metadata": {},
     "output_type": "display_data"
    },
    {
     "data": {
      "application/vnd.jupyter.widget-view+json": {
       "model_id": "",
       "version_major": 2,
       "version_minor": 0
      },
      "text/plain": [
       "FloatProgress(value=0.0, bar_style='info', description='Progress:', layout=Layout(height='25px', width='50%'),…"
      ]
     },
     "metadata": {},
     "output_type": "display_data"
    }
   ],
   "source": [
    "lowestRated = dfPosts.where(F.col('PostTypeID')==1).orderBy('Score').limit(5).withColumn('PostLength', F.length('Body'))\\\n",
    "        .select('ID', 'Score', 'PostLength', 'Tags', 'AnswerCount')"
   ]
  },
  {
   "cell_type": "code",
   "execution_count": 38,
   "id": "802f53f9-0ec0-4a29-b6ab-a74bac92cdae",
   "metadata": {
    "execution": {
     "iopub.execute_input": "2023-01-30T22:54:53.069438Z",
     "iopub.status.busy": "2023-01-30T22:54:53.069237Z",
     "iopub.status.idle": "2023-01-30T22:54:53.856519Z",
     "shell.execute_reply": "2023-01-30T22:54:53.855724Z",
     "shell.execute_reply.started": "2023-01-30T22:54:53.069415Z"
    },
    "tags": []
   },
   "outputs": [
    {
     "data": {
      "application/vnd.jupyter.widget-view+json": {
       "model_id": "9b4d3a5d92c94db3812abd964829d464",
       "version_major": 2,
       "version_minor": 0
      },
      "text/plain": [
       "VBox()"
      ]
     },
     "metadata": {},
     "output_type": "display_data"
    },
    {
     "data": {
      "application/vnd.jupyter.widget-view+json": {
       "model_id": "",
       "version_major": 2,
       "version_minor": 0
      },
      "text/plain": [
       "FloatProgress(value=0.0, bar_style='info', description='Progress:', layout=Layout(height='25px', width='50%'),…"
      ]
     },
     "metadata": {},
     "output_type": "display_data"
    },
    {
     "name": "stdout",
     "output_type": "stream",
     "text": [
      "-RECORD 0------------------------------------------------------------------------------------------------------------------------\n",
      " ID          | 225                                                                                                               \n",
      " Score       | -4                                                                                                                \n",
      " PostLength  | 388                                                                                                               \n",
      " Tags        | [reference-request, recurrent-neural-networks, algorithm-request, sequence-modeling, model-request]               \n",
      " AnswerCount | 2                                                                                                                 \n",
      "-RECORD 1------------------------------------------------------------------------------------------------------------------------\n",
      " ID          | 1480                                                                                                              \n",
      " Score       | -4                                                                                                                \n",
      " PostLength  | 454                                                                                                               \n",
      " Tags        | [deep-neural-networks, image-recognition, deep-learning, datasets]                                                \n",
      " AnswerCount | 1                                                                                                                 \n",
      "-RECORD 2------------------------------------------------------------------------------------------------------------------------\n",
      " ID          | 2562                                                                                                              \n",
      " Score       | -4                                                                                                                \n",
      " PostLength  | 176                                                                                                               \n",
      " Tags        | [philosophy, agi, superintelligence, proofs]                                                                      \n",
      " AnswerCount | 3                                                                                                                 \n",
      "-RECORD 3------------------------------------------------------------------------------------------------------------------------\n",
      " ID          | 27177                                                                                                             \n",
      " Score       | -3                                                                                                                \n",
      " PostLength  | 3084                                                                                                              \n",
      " Tags        | [pytorch]                                                                                                         \n",
      " AnswerCount | 1                                                                                                                 \n",
      "-RECORD 4------------------------------------------------------------------------------------------------------------------------\n",
      " ID          | 27800                                                                                                             \n",
      " Score       | -2                                                                                                                \n",
      " PostLength  | 1419                                                                                                              \n",
      " Tags        | [reinforcement-learning, policy-gradients, multi-agent-systems, continuous-action-spaces, advantage-actor-critic] \n",
      " AnswerCount | 1"
     ]
    }
   ],
   "source": [
    "lowestRated.show(truncate=False, vertical=True)"
   ]
  },
  {
   "cell_type": "code",
   "execution_count": 39,
   "id": "b7ad84c1-5276-4eb8-9ce5-584e8b5804f0",
   "metadata": {
    "execution": {
     "iopub.execute_input": "2023-01-30T22:54:53.859713Z",
     "iopub.status.busy": "2023-01-30T22:54:53.859070Z",
     "iopub.status.idle": "2023-01-30T22:54:54.121434Z",
     "shell.execute_reply": "2023-01-30T22:54:54.120808Z",
     "shell.execute_reply.started": "2023-01-30T22:54:53.859670Z"
    },
    "tags": []
   },
   "outputs": [
    {
     "data": {
      "application/vnd.jupyter.widget-view+json": {
       "model_id": "4b68cfc5bf844e20892a9eda3524c76b",
       "version_major": 2,
       "version_minor": 0
      },
      "text/plain": [
       "VBox()"
      ]
     },
     "metadata": {},
     "output_type": "display_data"
    },
    {
     "data": {
      "application/vnd.jupyter.widget-view+json": {
       "model_id": "",
       "version_major": 2,
       "version_minor": 0
      },
      "text/plain": [
       "FloatProgress(value=0.0, bar_style='info', description='Progress:', layout=Layout(height='25px', width='50%'),…"
      ]
     },
     "metadata": {},
     "output_type": "display_data"
    }
   ],
   "source": [
    "lowestStats = lowestRated.agg(F.round(F.mean('PostLength'), 2).alias('Mean post length'),\\\n",
    "                F.round(F.stddev('PostLength'), 2).alias('Post length standard deviation'))"
   ]
  },
  {
   "cell_type": "code",
   "execution_count": 40,
   "id": "34b7a20e-0859-456b-ac9c-ca50a06c6979",
   "metadata": {
    "execution": {
     "iopub.execute_input": "2023-01-30T22:54:54.122530Z",
     "iopub.status.busy": "2023-01-30T22:54:54.122359Z",
     "iopub.status.idle": "2023-01-30T22:54:54.914607Z",
     "shell.execute_reply": "2023-01-30T22:54:54.913920Z",
     "shell.execute_reply.started": "2023-01-30T22:54:54.122509Z"
    },
    "tags": []
   },
   "outputs": [
    {
     "data": {
      "application/vnd.jupyter.widget-view+json": {
       "model_id": "e8f6f9de7a2549dbac2fccc9b288c126",
       "version_major": 2,
       "version_minor": 0
      },
      "text/plain": [
       "VBox()"
      ]
     },
     "metadata": {},
     "output_type": "display_data"
    },
    {
     "data": {
      "application/vnd.jupyter.widget-view+json": {
       "model_id": "",
       "version_major": 2,
       "version_minor": 0
      },
      "text/plain": [
       "FloatProgress(value=0.0, bar_style='info', description='Progress:', layout=Layout(height='25px', width='50%'),…"
      ]
     },
     "metadata": {},
     "output_type": "display_data"
    },
    {
     "name": "stdout",
     "output_type": "stream",
     "text": [
      "+----------------+------------------------------+\n",
      "|Mean post length|Post length standard deviation|\n",
      "+----------------+------------------------------+\n",
      "|          1104.2|                       1205.82|\n",
      "+----------------+------------------------------+"
     ]
    }
   ],
   "source": [
    "lowestStats.show()"
   ]
  },
  {
   "cell_type": "code",
   "execution_count": 41,
   "id": "312055dd-6a76-4246-891b-7be3f25a6474",
   "metadata": {
    "execution": {
     "iopub.execute_input": "2023-01-30T22:54:54.915946Z",
     "iopub.status.busy": "2023-01-30T22:54:54.915759Z",
     "iopub.status.idle": "2023-01-30T22:54:55.081127Z",
     "shell.execute_reply": "2023-01-30T22:54:55.078922Z",
     "shell.execute_reply.started": "2023-01-30T22:54:54.915923Z"
    },
    "tags": []
   },
   "outputs": [
    {
     "data": {
      "application/vnd.jupyter.widget-view+json": {
       "model_id": "4427b4b10b3846af87b1e990b3f8c4d2",
       "version_major": 2,
       "version_minor": 0
      },
      "text/plain": [
       "VBox()"
      ]
     },
     "metadata": {},
     "output_type": "display_data"
    },
    {
     "data": {
      "application/vnd.jupyter.widget-view+json": {
       "model_id": "",
       "version_major": 2,
       "version_minor": 0
      },
      "text/plain": [
       "FloatProgress(value=0.0, bar_style='info', description='Progress:', layout=Layout(height='25px', width='50%'),…"
      ]
     },
     "metadata": {},
     "output_type": "display_data"
    }
   ],
   "source": [
    "mostAnswered = dfPosts.where(F.col('PostTypeID')==1).orderBy('AnswerCount', ascending=False).limit(5).withColumn('PostLength', F.length('Body'))\\\n",
    "        .select('ID', 'Score', 'PostLength', 'Tags', 'AnswerCount')"
   ]
  },
  {
   "cell_type": "code",
   "execution_count": 42,
   "id": "21ce98de-ad44-4c0e-bb57-f399be27b7f3",
   "metadata": {
    "execution": {
     "iopub.execute_input": "2023-01-30T22:54:55.082408Z",
     "iopub.status.busy": "2023-01-30T22:54:55.082168Z",
     "iopub.status.idle": "2023-01-30T22:54:56.501954Z",
     "shell.execute_reply": "2023-01-30T22:54:56.501245Z",
     "shell.execute_reply.started": "2023-01-30T22:54:55.082374Z"
    },
    "tags": []
   },
   "outputs": [
    {
     "data": {
      "application/vnd.jupyter.widget-view+json": {
       "model_id": "f441dbce75c2444597a5b3c49d683d92",
       "version_major": 2,
       "version_minor": 0
      },
      "text/plain": [
       "VBox()"
      ]
     },
     "metadata": {},
     "output_type": "display_data"
    },
    {
     "data": {
      "application/vnd.jupyter.widget-view+json": {
       "model_id": "",
       "version_major": 2,
       "version_minor": 0
      },
      "text/plain": [
       "FloatProgress(value=0.0, bar_style='info', description='Progress:', layout=Layout(height='25px', width='50%'),…"
      ]
     },
     "metadata": {},
     "output_type": "display_data"
    },
    {
     "name": "stdout",
     "output_type": "stream",
     "text": [
      "-RECORD 0-----------------------------------------------------------------\n",
      " ID          | 15730                                                      \n",
      " Score       | 45                                                         \n",
      " PostLength  | 1836                                                       \n",
      " Tags        | [deep-learning, philosophy, agi]                           \n",
      " AnswerCount | 19                                                         \n",
      "-RECORD 1-----------------------------------------------------------------\n",
      " ID          | 111                                                        \n",
      " Score       | 100                                                        \n",
      " PostLength  | 1318                                                       \n",
      " Tags        | [philosophy, ethics, autonomous-vehicles, decision-theory] \n",
      " AnswerCount | 14                                                         \n",
      "-RECORD 2-----------------------------------------------------------------\n",
      " ID          | 2111                                                       \n",
      " Score       | 12                                                         \n",
      " PostLength  | 373                                                        \n",
      " Tags        | [philosophy, definitions, biology]                         \n",
      " AnswerCount | 13                                                         \n",
      "-RECORD 3-----------------------------------------------------------------\n",
      " ID          | 15449                                                      \n",
      " Score       | 55                                                         \n",
      " PostLength  | 145                                                        \n",
      " Tags        | [philosophy, social, neo-luddism]                          \n",
      " AnswerCount | 13                                                         \n",
      "-RECORD 4-----------------------------------------------------------------\n",
      " ID          | 1768                                                       \n",
      " Score       | 175                                                        \n",
      " PostLength  | 356                                                        \n",
      " Tags        | [philosophy, decision-theory, mythology-of-ai, death]      \n",
      " AnswerCount | 12"
     ]
    }
   ],
   "source": [
    "mostAnswered.show(truncate=False, vertical=True)"
   ]
  },
  {
   "cell_type": "code",
   "execution_count": 43,
   "id": "6d7a020a-86b2-43ad-abdc-ef3765f7b771",
   "metadata": {
    "execution": {
     "iopub.execute_input": "2023-01-30T22:54:56.503192Z",
     "iopub.status.busy": "2023-01-30T22:54:56.502952Z",
     "iopub.status.idle": "2023-01-30T22:54:56.824998Z",
     "shell.execute_reply": "2023-01-30T22:54:56.824225Z",
     "shell.execute_reply.started": "2023-01-30T22:54:56.503157Z"
    },
    "tags": []
   },
   "outputs": [
    {
     "data": {
      "application/vnd.jupyter.widget-view+json": {
       "model_id": "0fabb334a8944bb1a911f2706bd62741",
       "version_major": 2,
       "version_minor": 0
      },
      "text/plain": [
       "VBox()"
      ]
     },
     "metadata": {},
     "output_type": "display_data"
    },
    {
     "data": {
      "application/vnd.jupyter.widget-view+json": {
       "model_id": "",
       "version_major": 2,
       "version_minor": 0
      },
      "text/plain": [
       "FloatProgress(value=0.0, bar_style='info', description='Progress:', layout=Layout(height='25px', width='50%'),…"
      ]
     },
     "metadata": {},
     "output_type": "display_data"
    }
   ],
   "source": [
    "mostAnsweredStats = mostAnswered.agg(F.round(F.mean('PostLength'), 2).alias('Mean post length'),\\\n",
    "                F.round(F.stddev('PostLength'), 2).alias('Post length standard deviation'))"
   ]
  },
  {
   "cell_type": "code",
   "execution_count": 44,
   "id": "ae48aecd-43a1-4c9a-8b95-f99194635b89",
   "metadata": {
    "execution": {
     "iopub.execute_input": "2023-01-30T22:54:56.826216Z",
     "iopub.status.busy": "2023-01-30T22:54:56.825979Z",
     "iopub.status.idle": "2023-01-30T22:54:58.134285Z",
     "shell.execute_reply": "2023-01-30T22:54:58.131611Z",
     "shell.execute_reply.started": "2023-01-30T22:54:56.826182Z"
    },
    "tags": []
   },
   "outputs": [
    {
     "data": {
      "application/vnd.jupyter.widget-view+json": {
       "model_id": "8b6613862e2e46ba809e994fb113e8e9",
       "version_major": 2,
       "version_minor": 0
      },
      "text/plain": [
       "VBox()"
      ]
     },
     "metadata": {},
     "output_type": "display_data"
    },
    {
     "data": {
      "application/vnd.jupyter.widget-view+json": {
       "model_id": "",
       "version_major": 2,
       "version_minor": 0
      },
      "text/plain": [
       "FloatProgress(value=0.0, bar_style='info', description='Progress:', layout=Layout(height='25px', width='50%'),…"
      ]
     },
     "metadata": {},
     "output_type": "display_data"
    },
    {
     "name": "stdout",
     "output_type": "stream",
     "text": [
      "+----------------+------------------------------+\n",
      "|Mean post length|Post length standard deviation|\n",
      "+----------------+------------------------------+\n",
      "|           805.6|                        733.14|\n",
      "+----------------+------------------------------+"
     ]
    }
   ],
   "source": [
    "mostAnsweredStats.show()"
   ]
  },
  {
   "cell_type": "code",
   "execution_count": null,
   "id": "b8ccdc97-42f7-4824-b7d7-c331845400fa",
   "metadata": {},
   "outputs": [],
   "source": []
  },
  {
   "cell_type": "markdown",
   "id": "bbec9cb4-32e9-4de5-adc2-330b53fc2e27",
   "metadata": {},
   "source": [
    "# Percent of cases where highest rated answer is not the accepted answer"
   ]
  },
  {
   "cell_type": "code",
   "execution_count": 45,
   "id": "1c205c09-e4d1-4146-86fd-067755a13ff6",
   "metadata": {
    "execution": {
     "iopub.execute_input": "2023-01-30T22:54:58.135854Z",
     "iopub.status.busy": "2023-01-30T22:54:58.135661Z",
     "iopub.status.idle": "2023-01-30T22:54:58.404522Z",
     "shell.execute_reply": "2023-01-30T22:54:58.403933Z",
     "shell.execute_reply.started": "2023-01-30T22:54:58.135831Z"
    },
    "tags": []
   },
   "outputs": [
    {
     "data": {
      "application/vnd.jupyter.widget-view+json": {
       "model_id": "dad6f17e6614428cbd5084751a87aa7d",
       "version_major": 2,
       "version_minor": 0
      },
      "text/plain": [
       "VBox()"
      ]
     },
     "metadata": {},
     "output_type": "display_data"
    },
    {
     "data": {
      "application/vnd.jupyter.widget-view+json": {
       "model_id": "",
       "version_major": 2,
       "version_minor": 0
      },
      "text/plain": [
       "FloatProgress(value=0.0, bar_style='info', description='Progress:', layout=Layout(height='25px', width='50%'),…"
      ]
     },
     "metadata": {},
     "output_type": "display_data"
    }
   ],
   "source": [
    "dfAnswers = dfPosts.where(dfPosts.PostTypeID == 2)"
   ]
  },
  {
   "cell_type": "code",
   "execution_count": 46,
   "id": "e92b517d-c5a1-4079-a736-b072c50666a1",
   "metadata": {
    "execution": {
     "iopub.execute_input": "2023-01-30T22:54:58.406010Z",
     "iopub.status.busy": "2023-01-30T22:54:58.405657Z",
     "iopub.status.idle": "2023-01-30T22:54:58.473389Z",
     "shell.execute_reply": "2023-01-30T22:54:58.472832Z",
     "shell.execute_reply.started": "2023-01-30T22:54:58.405972Z"
    },
    "tags": []
   },
   "outputs": [
    {
     "data": {
      "application/vnd.jupyter.widget-view+json": {
       "model_id": "6a7f83d958344f12b390056900927302",
       "version_major": 2,
       "version_minor": 0
      },
      "text/plain": [
       "VBox()"
      ]
     },
     "metadata": {},
     "output_type": "display_data"
    },
    {
     "data": {
      "application/vnd.jupyter.widget-view+json": {
       "model_id": "",
       "version_major": 2,
       "version_minor": 0
      },
      "text/plain": [
       "FloatProgress(value=0.0, bar_style='info', description='Progress:', layout=Layout(height='25px', width='50%'),…"
      ]
     },
     "metadata": {},
     "output_type": "display_data"
    }
   ],
   "source": [
    "acceptedAnswers = dfPosts.where((dfPosts.PostTypeID == 1) & (dfPosts.AcceptedAnswerID.isNotNull()))\\\n",
    "                        .select(F.col('AcceptedAnswerID').alias('ID'))\n",
    "\n",
    "acceptedAnswersBD = F.broadcast(acceptedAnswers)"
   ]
  },
  {
   "cell_type": "code",
   "execution_count": 47,
   "id": "595b49cd-2092-4b88-8fb1-3e59c8b80a8f",
   "metadata": {
    "execution": {
     "iopub.execute_input": "2023-01-30T22:54:58.474459Z",
     "iopub.status.busy": "2023-01-30T22:54:58.474294Z",
     "iopub.status.idle": "2023-01-30T22:54:58.748970Z",
     "shell.execute_reply": "2023-01-30T22:54:58.748269Z",
     "shell.execute_reply.started": "2023-01-30T22:54:58.474438Z"
    },
    "tags": []
   },
   "outputs": [
    {
     "data": {
      "application/vnd.jupyter.widget-view+json": {
       "model_id": "b29045ca9f764f18a0a33bb000b8830e",
       "version_major": 2,
       "version_minor": 0
      },
      "text/plain": [
       "VBox()"
      ]
     },
     "metadata": {},
     "output_type": "display_data"
    },
    {
     "data": {
      "application/vnd.jupyter.widget-view+json": {
       "model_id": "",
       "version_major": 2,
       "version_minor": 0
      },
      "text/plain": [
       "FloatProgress(value=0.0, bar_style='info', description='Progress:', layout=Layout(height='25px', width='50%'),…"
      ]
     },
     "metadata": {},
     "output_type": "display_data"
    }
   ],
   "source": [
    "answersFlagged = dfAnswers.join(acceptedAnswersBD.withColumn('IsAccepted', F.lit(True)), 'ID', 'left')\\\n",
    "            .fillna(False).select('ID', 'PostTypeID', 'ParentID', 'Score', 'IsAccepted')"
   ]
  },
  {
   "cell_type": "code",
   "execution_count": 48,
   "id": "3f496527-e313-44df-980d-ab8382caacf1",
   "metadata": {
    "execution": {
     "iopub.execute_input": "2023-01-30T22:54:58.750108Z",
     "iopub.status.busy": "2023-01-30T22:54:58.749903Z",
     "iopub.status.idle": "2023-01-30T22:54:59.018560Z",
     "shell.execute_reply": "2023-01-30T22:54:59.017918Z",
     "shell.execute_reply.started": "2023-01-30T22:54:58.750085Z"
    },
    "tags": []
   },
   "outputs": [
    {
     "data": {
      "application/vnd.jupyter.widget-view+json": {
       "model_id": "af1336b7f2c64457aa63422b166071b8",
       "version_major": 2,
       "version_minor": 0
      },
      "text/plain": [
       "VBox()"
      ]
     },
     "metadata": {},
     "output_type": "display_data"
    },
    {
     "data": {
      "application/vnd.jupyter.widget-view+json": {
       "model_id": "",
       "version_major": 2,
       "version_minor": 0
      },
      "text/plain": [
       "FloatProgress(value=0.0, bar_style='info', description='Progress:', layout=Layout(height='25px', width='50%'),…"
      ]
     },
     "metadata": {},
     "output_type": "display_data"
    }
   ],
   "source": [
    "windowSpec = Window.partitionBy('ParentID').orderBy(F.desc('Score'),\n",
    "                                                    F.desc('IsAccepted'))\n",
    "\n",
    "highestOnly = answersFlagged.withColumn('rn', F.row_number().over(windowSpec)).filter(F.col('rn') == 1).drop(F.col('rn'))"
   ]
  },
  {
   "cell_type": "code",
   "execution_count": 49,
   "id": "a59ff53e-b00a-4052-8711-4ebe4a51c1d0",
   "metadata": {
    "execution": {
     "iopub.execute_input": "2023-01-30T22:54:59.019621Z",
     "iopub.status.busy": "2023-01-30T22:54:59.019450Z",
     "iopub.status.idle": "2023-01-30T22:55:02.772188Z",
     "shell.execute_reply": "2023-01-30T22:55:02.771337Z",
     "shell.execute_reply.started": "2023-01-30T22:54:59.019599Z"
    },
    "tags": []
   },
   "outputs": [
    {
     "data": {
      "application/vnd.jupyter.widget-view+json": {
       "model_id": "4fc644a772fb48bc84e764c467debdc3",
       "version_major": 2,
       "version_minor": 0
      },
      "text/plain": [
       "VBox()"
      ]
     },
     "metadata": {},
     "output_type": "display_data"
    },
    {
     "data": {
      "application/vnd.jupyter.widget-view+json": {
       "model_id": "",
       "version_major": 2,
       "version_minor": 0
      },
      "text/plain": [
       "FloatProgress(value=0.0, bar_style='info', description='Progress:', layout=Layout(height='25px', width='50%'),…"
      ]
     },
     "metadata": {},
     "output_type": "display_data"
    }
   ],
   "source": [
    "percent = highestOnly.filter(F.col('IsAccepted') == False).count() / highestOnly.count() * 100"
   ]
  },
  {
   "cell_type": "code",
   "execution_count": 50,
   "id": "96f11574-3384-4081-a2bf-63a76217a08b",
   "metadata": {
    "execution": {
     "iopub.execute_input": "2023-01-30T22:55:02.773371Z",
     "iopub.status.busy": "2023-01-30T22:55:02.773175Z",
     "iopub.status.idle": "2023-01-30T22:55:02.833217Z",
     "shell.execute_reply": "2023-01-30T22:55:02.832478Z",
     "shell.execute_reply.started": "2023-01-30T22:55:02.773348Z"
    },
    "tags": []
   },
   "outputs": [
    {
     "data": {
      "application/vnd.jupyter.widget-view+json": {
       "model_id": "78b59cb30e1240f382604aa6d08ad121",
       "version_major": 2,
       "version_minor": 0
      },
      "text/plain": [
       "VBox()"
      ]
     },
     "metadata": {},
     "output_type": "display_data"
    },
    {
     "data": {
      "application/vnd.jupyter.widget-view+json": {
       "model_id": "",
       "version_major": 2,
       "version_minor": 0
      },
      "text/plain": [
       "FloatProgress(value=0.0, bar_style='info', description='Progress:', layout=Layout(height='25px', width='50%'),…"
      ]
     },
     "metadata": {},
     "output_type": "display_data"
    },
    {
     "name": "stdout",
     "output_type": "stream",
     "text": [
      "The highest rated answer is not the accepted answer in 51.97% of cases."
     ]
    }
   ],
   "source": [
    "print(f'The highest rated answer is not the accepted answer in {percent:.2f}% of cases.')"
   ]
  },
  {
   "cell_type": "markdown",
   "id": "69138b09-a67f-4fa8-860e-066f7c4a1521",
   "metadata": {
    "tags": []
   },
   "source": [
    "# Score distribution of accepted vs non accepted answers"
   ]
  },
  {
   "cell_type": "code",
   "execution_count": 51,
   "id": "46a7e71f-592c-4897-ba83-bb3c8c93216a",
   "metadata": {
    "execution": {
     "iopub.execute_input": "2023-01-30T22:55:02.834338Z",
     "iopub.status.busy": "2023-01-30T22:55:02.834171Z",
     "iopub.status.idle": "2023-01-30T22:55:03.613233Z",
     "shell.execute_reply": "2023-01-30T22:55:03.612628Z",
     "shell.execute_reply.started": "2023-01-30T22:55:02.834316Z"
    },
    "tags": []
   },
   "outputs": [
    {
     "data": {
      "application/vnd.jupyter.widget-view+json": {
       "model_id": "f7363c8125064170afeaa5e817ca58ac",
       "version_major": 2,
       "version_minor": 0
      },
      "text/plain": [
       "VBox()"
      ]
     },
     "metadata": {},
     "output_type": "display_data"
    },
    {
     "data": {
      "application/vnd.jupyter.widget-view+json": {
       "model_id": "",
       "version_major": 2,
       "version_minor": 0
      },
      "text/plain": [
       "FloatProgress(value=0.0, bar_style='info', description='Progress:', layout=Layout(height='25px', width='50%'),…"
      ]
     },
     "metadata": {},
     "output_type": "display_data"
    }
   ],
   "source": [
    "answStats = answersFlagged.groupBy('IsAccepted').agg(F.count(F.col('IsAccepted')).alias('Number of answers'),\\\n",
    "                                         F.round(F.mean('Score'), 2).alias('Mean score'),\\\n",
    "                                         F.round(F.stddev('Score'), 2).alias('Standard deviation'),\\\n",
    "                                         F.expr('percentile_approx(Score, 0.5)').alias('Median score'),\\\n",
    "                                         F.min('Score').alias('Min score'),\\\n",
    "                                         F.max('Score').alias('Max score'))"
   ]
  },
  {
   "cell_type": "code",
   "execution_count": 52,
   "id": "ef9322d0-f808-41e1-b7dc-9ae70c4c6af1",
   "metadata": {
    "execution": {
     "iopub.execute_input": "2023-01-30T22:55:03.614254Z",
     "iopub.status.busy": "2023-01-30T22:55:03.614051Z",
     "iopub.status.idle": "2023-01-30T22:55:05.904193Z",
     "shell.execute_reply": "2023-01-30T22:55:05.901797Z",
     "shell.execute_reply.started": "2023-01-30T22:55:03.614231Z"
    },
    "tags": []
   },
   "outputs": [
    {
     "data": {
      "application/vnd.jupyter.widget-view+json": {
       "model_id": "7e77cc86e6af4edd91354eb611911066",
       "version_major": 2,
       "version_minor": 0
      },
      "text/plain": [
       "VBox()"
      ]
     },
     "metadata": {},
     "output_type": "display_data"
    },
    {
     "data": {
      "application/vnd.jupyter.widget-view+json": {
       "model_id": "",
       "version_major": 2,
       "version_minor": 0
      },
      "text/plain": [
       "FloatProgress(value=0.0, bar_style='info', description='Progress:', layout=Layout(height='25px', width='50%'),…"
      ]
     },
     "metadata": {},
     "output_type": "display_data"
    },
    {
     "name": "stdout",
     "output_type": "stream",
     "text": [
      "+----------+-----------------+----------+------------------+------------+---------+---------+\n",
      "|IsAccepted|Number of answers|Mean score|Standard deviation|Median score|Min score|Max score|\n",
      "+----------+-----------------+----------+------------------+------------+---------+---------+\n",
      "|      true|             3630|      3.11|              5.68|           2|       -2|      146|\n",
      "|     false|             6945|      1.79|              2.95|           1|       -3|       62|\n",
      "+----------+-----------------+----------+------------------+------------+---------+---------+"
     ]
    }
   ],
   "source": [
    "answStats.show()"
   ]
  },
  {
   "cell_type": "code",
   "execution_count": 53,
   "id": "77755efa-60ea-4358-8110-7cbed90884ec",
   "metadata": {
    "execution": {
     "iopub.execute_input": "2023-01-30T22:55:05.911897Z",
     "iopub.status.busy": "2023-01-30T22:55:05.911633Z",
     "iopub.status.idle": "2023-01-30T22:55:07.297458Z",
     "shell.execute_reply": "2023-01-30T22:55:07.296771Z",
     "shell.execute_reply.started": "2023-01-30T22:55:05.911870Z"
    },
    "tags": []
   },
   "outputs": [
    {
     "data": {
      "application/vnd.jupyter.widget-view+json": {
       "model_id": "3876ba90c88742b183e8f86931c0c78f",
       "version_major": 2,
       "version_minor": 0
      },
      "text/plain": [
       "VBox()"
      ]
     },
     "metadata": {},
     "output_type": "display_data"
    },
    {
     "data": {
      "application/vnd.jupyter.widget-view+json": {
       "model_id": "",
       "version_major": 2,
       "version_minor": 0
      },
      "text/plain": [
       "FloatProgress(value=0.0, bar_style='info', description='Progress:', layout=Layout(height='25px', width='50%'),…"
      ]
     },
     "metadata": {},
     "output_type": "display_data"
    }
   ],
   "source": [
    "acc = answersFlagged.where(F.col('IsAccepted') == True).toPandas()"
   ]
  },
  {
   "cell_type": "code",
   "execution_count": 54,
   "id": "395d28d0-6f8e-4625-bb61-2690359c5f39",
   "metadata": {
    "execution": {
     "iopub.execute_input": "2023-01-30T22:55:07.298541Z",
     "iopub.status.busy": "2023-01-30T22:55:07.298366Z",
     "iopub.status.idle": "2023-01-30T22:55:08.087980Z",
     "shell.execute_reply": "2023-01-30T22:55:08.087336Z",
     "shell.execute_reply.started": "2023-01-30T22:55:07.298519Z"
    },
    "tags": []
   },
   "outputs": [
    {
     "data": {
      "application/vnd.jupyter.widget-view+json": {
       "model_id": "967028f7ae2a46b6a0f380277791a5cf",
       "version_major": 2,
       "version_minor": 0
      },
      "text/plain": [
       "VBox()"
      ]
     },
     "metadata": {},
     "output_type": "display_data"
    },
    {
     "data": {
      "application/vnd.jupyter.widget-view+json": {
       "model_id": "",
       "version_major": 2,
       "version_minor": 0
      },
      "text/plain": [
       "FloatProgress(value=0.0, bar_style='info', description='Progress:', layout=Layout(height='25px', width='50%'),…"
      ]
     },
     "metadata": {},
     "output_type": "display_data"
    },
    {
     "data": {
      "image/png": "[encoded data removed]",
      "text/plain": [
       "<IPython.core.display.Image object>"
      ]
     },
     "metadata": {},
     "output_type": "display_data"
    }
   ],
   "source": [
    "acc.hist(column='Score', bins=100)\n",
    "plt.xlabel('Ocena')\n",
    "plt.ylabel('Liczba odpowiedzi')\n",
    "plt.title('Rozklad ocen zaakceptowanych odpowiedzi')\n",
    "plt.semilogy()\n",
    "%matplot plt"
   ]
  },
  {
   "cell_type": "code",
   "execution_count": 55,
   "id": "e4083640-0e95-4280-ba4a-9c7f32476d50",
   "metadata": {
    "execution": {
     "iopub.execute_input": "2023-01-30T22:55:08.089365Z",
     "iopub.status.busy": "2023-01-30T22:55:08.089102Z",
     "iopub.status.idle": "2023-01-30T22:55:08.146588Z",
     "shell.execute_reply": "2023-01-30T22:55:08.146048Z",
     "shell.execute_reply.started": "2023-01-30T22:55:08.089329Z"
    }
   },
   "outputs": [
    {
     "data": {
      "application/vnd.jupyter.widget-view+json": {
       "model_id": "5f4a06d279ce4c6998e276efc6f27c8f",
       "version_major": 2,
       "version_minor": 0
      },
      "text/plain": [
       "VBox()"
      ]
     },
     "metadata": {},
     "output_type": "display_data"
    },
    {
     "data": {
      "application/vnd.jupyter.widget-view+json": {
       "model_id": "",
       "version_major": 2,
       "version_minor": 0
      },
      "text/plain": [
       "FloatProgress(value=0.0, bar_style='info', description='Progress:', layout=Layout(height='25px', width='50%'),…"
      ]
     },
     "metadata": {},
     "output_type": "display_data"
    }
   ],
   "source": [
    "acc2 = acc[acc['Score'] <= 20]"
   ]
  },
  {
   "cell_type": "code",
   "execution_count": 56,
   "id": "b3fbd27c-bb6d-4488-a8e8-1e2347aac79e",
   "metadata": {
    "execution": {
     "iopub.execute_input": "2023-01-30T22:55:08.147626Z",
     "iopub.status.busy": "2023-01-30T22:55:08.147452Z",
     "iopub.status.idle": "2023-01-30T22:55:08.932936Z",
     "shell.execute_reply": "2023-01-30T22:55:08.932071Z",
     "shell.execute_reply.started": "2023-01-30T22:55:08.147604Z"
    },
    "tags": []
   },
   "outputs": [
    {
     "data": {
      "application/vnd.jupyter.widget-view+json": {
       "model_id": "c7be05b1053b477dab174175ef473ca1",
       "version_major": 2,
       "version_minor": 0
      },
      "text/plain": [
       "VBox()"
      ]
     },
     "metadata": {},
     "output_type": "display_data"
    },
    {
     "data": {
      "application/vnd.jupyter.widget-view+json": {
       "model_id": "",
       "version_major": 2,
       "version_minor": 0
      },
      "text/plain": [
       "FloatProgress(value=0.0, bar_style='info', description='Progress:', layout=Layout(height='25px', width='50%'),…"
      ]
     },
     "metadata": {},
     "output_type": "display_data"
    },
    {
     "data": {
      "image/png": "[encoded data removed]",
      "text/plain": [
       "<IPython.core.display.Image object>"
      ]
     },
     "metadata": {},
     "output_type": "display_data"
    }
   ],
   "source": [
    "acc2.hist(column='Score', bins=22)\n",
    "plt.xlabel('Ocena')\n",
    "plt.ylabel('Liczba odpowiedzi')\n",
    "plt.title('Rozklad ocen zaakceptowanych odpowiedzi (oceny ograniczone do 20)')\n",
    "plt.semilogy()\n",
    "%matplot plt"
   ]
  },
  {
   "cell_type": "code",
   "execution_count": 57,
   "id": "dc5cda00-f57e-406a-b3af-07f58b002d13",
   "metadata": {
    "execution": {
     "iopub.execute_input": "2023-01-30T22:55:08.934642Z",
     "iopub.status.busy": "2023-01-30T22:55:08.934242Z",
     "iopub.status.idle": "2023-01-30T22:55:09.751234Z",
     "shell.execute_reply": "2023-01-30T22:55:09.750601Z",
     "shell.execute_reply.started": "2023-01-30T22:55:08.934613Z"
    }
   },
   "outputs": [
    {
     "data": {
      "application/vnd.jupyter.widget-view+json": {
       "model_id": "7e89a7bb54ca4c53b8c747cb7938bb3f",
       "version_major": 2,
       "version_minor": 0
      },
      "text/plain": [
       "VBox()"
      ]
     },
     "metadata": {},
     "output_type": "display_data"
    },
    {
     "data": {
      "application/vnd.jupyter.widget-view+json": {
       "model_id": "",
       "version_major": 2,
       "version_minor": 0
      },
      "text/plain": [
       "FloatProgress(value=0.0, bar_style='info', description='Progress:', layout=Layout(height='25px', width='50%'),…"
      ]
     },
     "metadata": {},
     "output_type": "display_data"
    }
   ],
   "source": [
    "nonAcc = answersFlagged.where(F.col('IsAccepted') == False).toPandas()"
   ]
  },
  {
   "cell_type": "code",
   "execution_count": 58,
   "id": "6490bb28-2367-4b7d-9b2c-dfdb7a52a9c4",
   "metadata": {
    "execution": {
     "iopub.execute_input": "2023-01-30T22:55:09.752345Z",
     "iopub.status.busy": "2023-01-30T22:55:09.752151Z",
     "iopub.status.idle": "2023-01-30T22:55:10.537906Z",
     "shell.execute_reply": "2023-01-30T22:55:10.536904Z",
     "shell.execute_reply.started": "2023-01-30T22:55:09.752323Z"
    },
    "tags": []
   },
   "outputs": [
    {
     "data": {
      "application/vnd.jupyter.widget-view+json": {
       "model_id": "ad1eefbfa96f4482aba2b00ed847f6c6",
       "version_major": 2,
       "version_minor": 0
      },
      "text/plain": [
       "VBox()"
      ]
     },
     "metadata": {},
     "output_type": "display_data"
    },
    {
     "data": {
      "application/vnd.jupyter.widget-view+json": {
       "model_id": "",
       "version_major": 2,
       "version_minor": 0
      },
      "text/plain": [
       "FloatProgress(value=0.0, bar_style='info', description='Progress:', layout=Layout(height='25px', width='50%'),…"
      ]
     },
     "metadata": {},
     "output_type": "display_data"
    },
    {
     "data": {
      "image/png": "[encoded data removed]",
      "text/plain": [
       "<IPython.core.display.Image object>"
      ]
     },
     "metadata": {},
     "output_type": "display_data"
    }
   ],
   "source": [
    "nonAcc.hist(column='Score', bins=63)\n",
    "plt.xlabel('Ocena')\n",
    "plt.ylabel('Liczba odpowiedzi')\n",
    "plt.title('Rozklad ocen niezaakceptowanych odpowiedzi')\n",
    "plt.semilogy()\n",
    "%matplot plt"
   ]
  },
  {
   "cell_type": "code",
   "execution_count": 59,
   "id": "078a1986-cc85-499b-acba-ab30251b44c2",
   "metadata": {
    "execution": {
     "iopub.execute_input": "2023-01-30T22:55:10.539357Z",
     "iopub.status.busy": "2023-01-30T22:55:10.538975Z",
     "iopub.status.idle": "2023-01-30T22:55:10.612640Z",
     "shell.execute_reply": "2023-01-30T22:55:10.611952Z",
     "shell.execute_reply.started": "2023-01-30T22:55:10.539319Z"
    }
   },
   "outputs": [
    {
     "data": {
      "application/vnd.jupyter.widget-view+json": {
       "model_id": "cfe922a5a9b644af9dcd0295be228d5c",
       "version_major": 2,
       "version_minor": 0
      },
      "text/plain": [
       "VBox()"
      ]
     },
     "metadata": {},
     "output_type": "display_data"
    },
    {
     "data": {
      "application/vnd.jupyter.widget-view+json": {
       "model_id": "",
       "version_major": 2,
       "version_minor": 0
      },
      "text/plain": [
       "FloatProgress(value=0.0, bar_style='info', description='Progress:', layout=Layout(height='25px', width='50%'),…"
      ]
     },
     "metadata": {},
     "output_type": "display_data"
    }
   ],
   "source": [
    "nonAcc2 = nonAcc[nonAcc['Score'] <= 20]"
   ]
  },
  {
   "cell_type": "code",
   "execution_count": 60,
   "id": "cd235958-f142-4cba-97de-9988004bcad2",
   "metadata": {
    "execution": {
     "iopub.execute_input": "2023-01-30T22:55:10.616366Z",
     "iopub.status.busy": "2023-01-30T22:55:10.616113Z",
     "iopub.status.idle": "2023-01-30T22:55:10.887435Z",
     "shell.execute_reply": "2023-01-30T22:55:10.886789Z",
     "shell.execute_reply.started": "2023-01-30T22:55:10.616333Z"
    },
    "tags": []
   },
   "outputs": [
    {
     "data": {
      "application/vnd.jupyter.widget-view+json": {
       "model_id": "138844cd3cd742fc9c58b1c1a766ad8a",
       "version_major": 2,
       "version_minor": 0
      },
      "text/plain": [
       "VBox()"
      ]
     },
     "metadata": {},
     "output_type": "display_data"
    },
    {
     "data": {
      "application/vnd.jupyter.widget-view+json": {
       "model_id": "",
       "version_major": 2,
       "version_minor": 0
      },
      "text/plain": [
       "FloatProgress(value=0.0, bar_style='info', description='Progress:', layout=Layout(height='25px', width='50%'),…"
      ]
     },
     "metadata": {},
     "output_type": "display_data"
    },
    {
     "data": {
      "image/png": "[encoded data removed]",
      "text/plain": [
       "<IPython.core.display.Image object>"
      ]
     },
     "metadata": {},
     "output_type": "display_data"
    }
   ],
   "source": [
    "nonAcc2.hist(column='Score', bins=23)\n",
    "plt.xlabel('Ocena')\n",
    "plt.ylabel('Liczba odpowiedzi')\n",
    "plt.title('Rozklad ocen niezaakceptowanych odpowiedzi (oceny ograniczone do 20)')\n",
    "plt.semilogy()\n",
    "%matplot plt"
   ]
  },
  {
   "cell_type": "markdown",
   "id": "0655d350-0ef0-4d7d-a26d-780b5ef85783",
   "metadata": {},
   "source": [
    "# Top 5 tags that generated the most views"
   ]
  },
  {
   "cell_type": "code",
   "execution_count": 61,
   "id": "51989155-ea95-432f-ba3b-1a29dfaa14b6",
   "metadata": {
    "execution": {
     "iopub.execute_input": "2023-01-30T22:55:10.888500Z",
     "iopub.status.busy": "2023-01-30T22:55:10.888319Z",
     "iopub.status.idle": "2023-01-30T22:55:11.152621Z",
     "shell.execute_reply": "2023-01-30T22:55:11.151986Z",
     "shell.execute_reply.started": "2023-01-30T22:55:10.888468Z"
    },
    "tags": []
   },
   "outputs": [
    {
     "data": {
      "application/vnd.jupyter.widget-view+json": {
       "model_id": "23d0584e9ff84e2495a69d0c0857fdef",
       "version_major": 2,
       "version_minor": 0
      },
      "text/plain": [
       "VBox()"
      ]
     },
     "metadata": {},
     "output_type": "display_data"
    },
    {
     "data": {
      "application/vnd.jupyter.widget-view+json": {
       "model_id": "",
       "version_major": 2,
       "version_minor": 0
      },
      "text/plain": [
       "FloatProgress(value=0.0, bar_style='info', description='Progress:', layout=Layout(height='25px', width='50%'),…"
      ]
     },
     "metadata": {},
     "output_type": "display_data"
    }
   ],
   "source": [
    "top5Tags = dfPosts.select('ViewCount',F.explode(F.col('Tags')).alias('Tag')).groupBy(F.col('Tag'))\\\n",
    "                .agg(F.sum(\"ViewCount\").alias(\"Sum of Views\")).orderBy(F.col('Sum of Views'), ascending=False).limit(5)"
   ]
  },
  {
   "cell_type": "code",
   "execution_count": 62,
   "id": "f40dccd5-20c3-446d-9021-9471886f15f9",
   "metadata": {
    "execution": {
     "iopub.execute_input": "2023-01-30T22:55:11.153977Z",
     "iopub.status.busy": "2023-01-30T22:55:11.153724Z",
     "iopub.status.idle": "2023-01-30T22:55:12.442771Z",
     "shell.execute_reply": "2023-01-30T22:55:12.442092Z",
     "shell.execute_reply.started": "2023-01-30T22:55:11.153938Z"
    },
    "tags": []
   },
   "outputs": [
    {
     "data": {
      "application/vnd.jupyter.widget-view+json": {
       "model_id": "742d9685bde74ae4909d26f20f9dbc61",
       "version_major": 2,
       "version_minor": 0
      },
      "text/plain": [
       "VBox()"
      ]
     },
     "metadata": {},
     "output_type": "display_data"
    },
    {
     "data": {
      "application/vnd.jupyter.widget-view+json": {
       "model_id": "",
       "version_major": 2,
       "version_minor": 0
      },
      "text/plain": [
       "FloatProgress(value=0.0, bar_style='info', description='Progress:', layout=Layout(height='25px', width='50%'),…"
      ]
     },
     "metadata": {},
     "output_type": "display_data"
    },
    {
     "name": "stdout",
     "output_type": "stream",
     "text": [
      "+----------------------+------------+\n",
      "|Tag                   |Sum of Views|\n",
      "+----------------------+------------+\n",
      "|neural-networks       |1845698     |\n",
      "|machine-learning      |1551283     |\n",
      "|deep-learning         |1240192     |\n",
      "|reinforcement-learning|1212097     |\n",
      "|comparison            |1080161     |\n",
      "+----------------------+------------+"
     ]
    }
   ],
   "source": [
    "top5Tags.show(truncate=False)"
   ]
  },
  {
   "cell_type": "code",
   "execution_count": null,
   "id": "e8f67d84-fe13-4276-ab63-630145ace616",
   "metadata": {},
   "outputs": [],
   "source": []
  },
  {
   "cell_type": "markdown",
   "id": "5bafaf70-6323-4e31-b35b-21aef9deeaf0",
   "metadata": {},
   "source": [
    "# Distribution of posts in time for top 5 tags"
   ]
  },
  {
   "cell_type": "code",
   "execution_count": 63,
   "id": "bcada136-82bb-4cc5-9387-c1c9373237ca",
   "metadata": {
    "execution": {
     "iopub.execute_input": "2023-01-30T22:55:12.444203Z",
     "iopub.status.busy": "2023-01-30T22:55:12.443922Z",
     "iopub.status.idle": "2023-01-30T22:55:13.220312Z",
     "shell.execute_reply": "2023-01-30T22:55:13.219561Z",
     "shell.execute_reply.started": "2023-01-30T22:55:12.444165Z"
    },
    "tags": []
   },
   "outputs": [
    {
     "data": {
      "application/vnd.jupyter.widget-view+json": {
       "model_id": "11f1e30ebc8843308afe691e86d14bf7",
       "version_major": 2,
       "version_minor": 0
      },
      "text/plain": [
       "VBox()"
      ]
     },
     "metadata": {},
     "output_type": "display_data"
    },
    {
     "data": {
      "application/vnd.jupyter.widget-view+json": {
       "model_id": "",
       "version_major": 2,
       "version_minor": 0
      },
      "text/plain": [
       "FloatProgress(value=0.0, bar_style='info', description='Progress:', layout=Layout(height='25px', width='50%'),…"
      ]
     },
     "metadata": {},
     "output_type": "display_data"
    },
    {
     "name": "stdout",
     "output_type": "stream",
     "text": [
      "['neural-networks', 'machine-learning', 'deep-learning', 'reinforcement-learning', 'comparison']"
     ]
    }
   ],
   "source": [
    "tagsList = [data[0] for data in top5Tags.select('Tag').collect()]\n",
    "tagsList"
   ]
  },
  {
   "cell_type": "code",
   "execution_count": 64,
   "id": "c92fafb0-fac7-44d2-8132-890387d6d9eb",
   "metadata": {
    "execution": {
     "iopub.execute_input": "2023-01-30T22:55:13.221561Z",
     "iopub.status.busy": "2023-01-30T22:55:13.221344Z",
     "iopub.status.idle": "2023-01-30T22:55:20.663741Z",
     "shell.execute_reply": "2023-01-30T22:55:20.662977Z",
     "shell.execute_reply.started": "2023-01-30T22:55:13.221538Z"
    },
    "tags": []
   },
   "outputs": [
    {
     "data": {
      "application/vnd.jupyter.widget-view+json": {
       "model_id": "74f47819e1dd4cc282e9f52ea5586876",
       "version_major": 2,
       "version_minor": 0
      },
      "text/plain": [
       "VBox()"
      ]
     },
     "metadata": {},
     "output_type": "display_data"
    },
    {
     "data": {
      "application/vnd.jupyter.widget-view+json": {
       "model_id": "",
       "version_major": 2,
       "version_minor": 0
      },
      "text/plain": [
       "FloatProgress(value=0.0, bar_style='info', description='Progress:', layout=Layout(height='25px', width='50%'),…"
      ]
     },
     "metadata": {},
     "output_type": "display_data"
    },
    {
     "data": {
      "image/png": "[encoded data removed]",
      "text/plain": [
       "<IPython.core.display.Image object>"
      ]
     },
     "metadata": {},
     "output_type": "display_data"
    }
   ],
   "source": [
    "fig, ax = plt.subplots()\n",
    "\n",
    "for tag in tagsList:\n",
    "    tgPostsInTime = dfPosts.where(F.array_contains(F.col('Tags'), tag)).groupBy(F.to_date('CreationDate').alias('Date'))\\\n",
    "                    .count().orderBy(F.col('Date')).toPandas()\n",
    "\n",
    "    tgWIndex = tgPostsInTime.set_index('Date')\n",
    "    tgWIndex.index = pd.to_datetime(tgWIndex.index)\n",
    "    tgResampled = tgWIndex.resample('1M').sum()\n",
    "\n",
    "    tgResampled.rename(columns={\n",
    "        'count': tag\n",
    "    }).plot(ax=ax,\n",
    "            y=tag,\n",
    "            ylabel='Liczba postow',\n",
    "            figsize=(10, 8),\n",
    "            legend=True,\n",
    "            grid=True)\n",
    "plt.xlabel('Data')\n",
    "%matplot plt"
   ]
  },
  {
   "cell_type": "code",
   "execution_count": 65,
   "id": "6b793822-ec2a-4f4f-93d2-03bcc37dad85",
   "metadata": {
    "execution": {
     "iopub.execute_input": "2023-01-30T22:55:20.665158Z",
     "iopub.status.busy": "2023-01-30T22:55:20.664924Z",
     "iopub.status.idle": "2023-01-30T22:55:23.880494Z",
     "shell.execute_reply": "2023-01-30T22:55:22.386988Z",
     "shell.execute_reply.started": "2023-01-30T22:55:20.665127Z"
    },
    "tags": []
   },
   "outputs": [
    {
     "data": {
      "application/vnd.jupyter.widget-view+json": {
       "model_id": "50ea5fbd8f0845c5822b3d1dcac77ad3",
       "version_major": 2,
       "version_minor": 0
      },
      "text/plain": [
       "VBox()"
      ]
     },
     "metadata": {},
     "output_type": "display_data"
    },
    {
     "data": {
      "application/vnd.jupyter.widget-view+json": {
       "model_id": "",
       "version_major": 2,
       "version_minor": 0
      },
      "text/plain": [
       "FloatProgress(value=0.0, bar_style='info', description='Progress:', layout=Layout(height='25px', width='50%'),…"
      ]
     },
     "metadata": {},
     "output_type": "display_data"
    },
    {
     "name": "stdout",
     "output_type": "stream",
     "text": [
      "+--------------------+------------+----------+--------------+\n",
      "|                 Tag|Sum of Views|Post Count|Views per Post|\n",
      "+--------------------+------------+----------+--------------+\n",
      "|     neural-networks|     1845698|      2333|        791.13|\n",
      "|    machine-learning|     1551283|      2100|        738.71|\n",
      "|       deep-learning|     1240192|      1804|        687.47|\n",
      "|reinforcement-lea...|     1212097|      2200|        550.95|\n",
      "|          comparison|     1080161|       430|        2512.0|\n",
      "+--------------------+------------+----------+--------------+"
     ]
    }
   ],
   "source": [
    "dfPosts.select('ViewCount',F.explode(F.col('Tags')).alias('Tag')).groupBy(F.col('Tag'))\\\n",
    "                .agg(F.sum(\"ViewCount\").alias(\"Sum of Views\"), F.count(F.col('Tag')).alias('Post Count'))\\\n",
    "                .orderBy(F.col('Sum of Views'), ascending=False).limit(5)\\\n",
    "                .withColumn('Views per Post', F.round((F.col('Sum of Views') / F.col('Post Count')), 2)).show()"
   ]
  },
  {
   "cell_type": "code",
   "execution_count": null,
   "id": "09945f48-b153-4697-9c61-d972440699d5",
   "metadata": {},
   "outputs": [],
   "source": []
  },
  {
   "cell_type": "markdown",
   "id": "f896af39-e5d8-4909-8ddd-e92b9c8d5285",
   "metadata": {},
   "source": [
    "# Most used words in titles"
   ]
  },
  {
   "cell_type": "code",
   "execution_count": 66,
   "id": "4d6db773-2254-4d4c-9463-b5109908796c",
   "metadata": {
    "execution": {
     "iopub.execute_input": "2023-01-30T22:55:23.887678Z",
     "iopub.status.busy": "2023-01-30T22:55:23.887432Z",
     "iopub.status.idle": "2023-01-30T22:55:24.634348Z",
     "shell.execute_reply": "2023-01-30T22:55:24.633747Z",
     "shell.execute_reply.started": "2023-01-30T22:55:23.887654Z"
    },
    "tags": []
   },
   "outputs": [
    {
     "data": {
      "application/vnd.jupyter.widget-view+json": {
       "model_id": "7277e0796763498b9b106917ad7bf620",
       "version_major": 2,
       "version_minor": 0
      },
      "text/plain": [
       "VBox()"
      ]
     },
     "metadata": {},
     "output_type": "display_data"
    },
    {
     "data": {
      "application/vnd.jupyter.widget-view+json": {
       "model_id": "",
       "version_major": 2,
       "version_minor": 0
      },
      "text/plain": [
       "FloatProgress(value=0.0, bar_style='info', description='Progress:', layout=Layout(height='25px', width='50%'),…"
      ]
     },
     "metadata": {},
     "output_type": "display_data"
    }
   ],
   "source": [
    "stopWords = StopWordsRemover.loadDefaultStopWords(\"english\")"
   ]
  },
  {
   "cell_type": "code",
   "execution_count": 67,
   "id": "01abe042-d7ee-44e4-8709-e57918ee9474",
   "metadata": {
    "execution": {
     "iopub.execute_input": "2023-01-30T22:55:24.635421Z",
     "iopub.status.busy": "2023-01-30T22:55:24.635255Z",
     "iopub.status.idle": "2023-01-30T22:55:25.418574Z",
     "shell.execute_reply": "2023-01-30T22:55:25.417696Z",
     "shell.execute_reply.started": "2023-01-30T22:55:24.635400Z"
    },
    "tags": []
   },
   "outputs": [
    {
     "data": {
      "application/vnd.jupyter.widget-view+json": {
       "model_id": "683d64e58f5f45d9b4a8e4709ba1317a",
       "version_major": 2,
       "version_minor": 0
      },
      "text/plain": [
       "VBox()"
      ]
     },
     "metadata": {},
     "output_type": "display_data"
    },
    {
     "data": {
      "application/vnd.jupyter.widget-view+json": {
       "model_id": "",
       "version_major": 2,
       "version_minor": 0
      },
      "text/plain": [
       "FloatProgress(value=0.0, bar_style='info', description='Progress:', layout=Layout(height='25px', width='50%'),…"
      ]
     },
     "metadata": {},
     "output_type": "display_data"
    }
   ],
   "source": [
    "wordCount = dfPosts.where(F.col('Title').isNotNull()).withColumn('WordsInTitle', F.explode(\\\n",
    "                                                                                 F.split(\\\n",
    "                                                                                 F.lower(\\\n",
    "                                                                                 F.regexp_replace(\\\n",
    "                                                                                 F.regexp_replace(\\\n",
    "                                                                                 F.col('Title'), '[^a-zA-Z ]', '')\\\n",
    "                                                                                                , '\\s+', ' '))\\\n",
    "                                                                                                 , ' ')))\\\n",
    "            .filter(~F.col('WordsInTitle').isin(stopWords)).groupBy(F.col('WordsInTitle')).count().orderBy('count', ascending=False)"
   ]
  },
  {
   "cell_type": "code",
   "execution_count": 68,
   "id": "584dc84c-5b2f-4f14-b9ca-ab114daacf42",
   "metadata": {
    "execution": {
     "iopub.execute_input": "2023-01-30T22:55:25.425365Z",
     "iopub.status.busy": "2023-01-30T22:55:25.425080Z",
     "iopub.status.idle": "2023-01-30T22:55:27.796558Z",
     "shell.execute_reply": "2023-01-30T22:55:27.795932Z",
     "shell.execute_reply.started": "2023-01-30T22:55:25.425327Z"
    },
    "tags": []
   },
   "outputs": [
    {
     "data": {
      "application/vnd.jupyter.widget-view+json": {
       "model_id": "a6487c4d16864f2ba193d797edcda630",
       "version_major": 2,
       "version_minor": 0
      },
      "text/plain": [
       "VBox()"
      ]
     },
     "metadata": {},
     "output_type": "display_data"
    },
    {
     "data": {
      "application/vnd.jupyter.widget-view+json": {
       "model_id": "",
       "version_major": 2,
       "version_minor": 0
      },
      "text/plain": [
       "FloatProgress(value=0.0, bar_style='info', description='Progress:', layout=Layout(height='25px', width='50%'),…"
      ]
     },
     "metadata": {},
     "output_type": "display_data"
    },
    {
     "name": "stdout",
     "output_type": "stream",
     "text": [
      "+-------------+-----+\n",
      "| WordsInTitle|count|\n",
      "+-------------+-----+\n",
      "|     learning| 1311|\n",
      "|       neural| 1207|\n",
      "|      network|  961|\n",
      "|        model|  658|\n",
      "|           ai|  605|\n",
      "|         data|  577|\n",
      "|          use|  571|\n",
      "|     function|  538|\n",
      "|     networks|  512|\n",
      "|     training|  507|\n",
      "|        using|  503|\n",
      "|    algorithm|  436|\n",
      "|reinforcement|  431|\n",
      "|         deep|  421|\n",
      "|         used|  364|\n",
      "|        image|  363|\n",
      "|         loss|  344|\n",
      "|       policy|  333|\n",
      "|      problem|  317|\n",
      "|      machine|  295|\n",
      "+-------------+-----+\n",
      "only showing top 20 rows"
     ]
    }
   ],
   "source": [
    "wordCount.show(20)"
   ]
  },
  {
   "cell_type": "code",
   "execution_count": null,
   "id": "d1c5162b-9753-4523-86c9-9d2512a56a8a",
   "metadata": {},
   "outputs": [],
   "source": []
  },
  {
   "cell_type": "markdown",
   "id": "e39a08b6-b9b0-4b45-bd3c-7d97059e3db1",
   "metadata": {
    "tags": []
   },
   "source": [
    "# Percentage of users who never posted"
   ]
  },
  {
   "cell_type": "code",
   "execution_count": 69,
   "id": "60fd50e1-78a6-4c38-a821-fd9aa790bdb3",
   "metadata": {
    "execution": {
     "iopub.execute_input": "2023-01-30T22:55:27.798158Z",
     "iopub.status.busy": "2023-01-30T22:55:27.797972Z",
     "iopub.status.idle": "2023-01-30T22:55:28.617010Z",
     "shell.execute_reply": "2023-01-30T22:55:28.616277Z",
     "shell.execute_reply.started": "2023-01-30T22:55:27.798134Z"
    },
    "tags": []
   },
   "outputs": [
    {
     "data": {
      "application/vnd.jupyter.widget-view+json": {
       "model_id": "93e234e8cea44471af706bcc2a79021b",
       "version_major": 2,
       "version_minor": 0
      },
      "text/plain": [
       "VBox()"
      ]
     },
     "metadata": {},
     "output_type": "display_data"
    },
    {
     "data": {
      "application/vnd.jupyter.widget-view+json": {
       "model_id": "",
       "version_major": 2,
       "version_minor": 0
      },
      "text/plain": [
       "FloatProgress(value=0.0, bar_style='info', description='Progress:', layout=Layout(height='25px', width='50%'),…"
      ]
     },
     "metadata": {},
     "output_type": "display_data"
    }
   ],
   "source": [
    "totalUsers = dfUsers.count()"
   ]
  },
  {
   "cell_type": "code",
   "execution_count": 70,
   "id": "2e288e62-a1ca-4c84-82ce-b8d864f382d4",
   "metadata": {
    "execution": {
     "iopub.execute_input": "2023-01-30T22:55:28.618144Z",
     "iopub.status.busy": "2023-01-30T22:55:28.617936Z",
     "iopub.status.idle": "2023-01-30T22:55:29.387567Z",
     "shell.execute_reply": "2023-01-30T22:55:29.386912Z",
     "shell.execute_reply.started": "2023-01-30T22:55:28.618120Z"
    },
    "tags": []
   },
   "outputs": [
    {
     "data": {
      "application/vnd.jupyter.widget-view+json": {
       "model_id": "bc676e50a0784976812f68f2b50d501e",
       "version_major": 2,
       "version_minor": 0
      },
      "text/plain": [
       "VBox()"
      ]
     },
     "metadata": {},
     "output_type": "display_data"
    },
    {
     "data": {
      "application/vnd.jupyter.widget-view+json": {
       "model_id": "",
       "version_major": 2,
       "version_minor": 0
      },
      "text/plain": [
       "FloatProgress(value=0.0, bar_style='info', description='Progress:', layout=Layout(height='25px', width='50%'),…"
      ]
     },
     "metadata": {},
     "output_type": "display_data"
    }
   ],
   "source": [
    "usersPostedCount = dfPosts.where(F.col('PostTypeID').isin([1,2])).select('OwnerUserID')\\\n",
    "                          .distinct().where(F.col('OwnerUserID').isNotNull()).count()"
   ]
  },
  {
   "cell_type": "code",
   "execution_count": 71,
   "id": "d3113755-10c4-4854-847e-2569d359d18c",
   "metadata": {
    "execution": {
     "iopub.execute_input": "2023-01-30T22:55:29.388729Z",
     "iopub.status.busy": "2023-01-30T22:55:29.388529Z",
     "iopub.status.idle": "2023-01-30T22:55:29.445149Z",
     "shell.execute_reply": "2023-01-30T22:55:29.444522Z",
     "shell.execute_reply.started": "2023-01-30T22:55:29.388705Z"
    },
    "tags": []
   },
   "outputs": [
    {
     "data": {
      "application/vnd.jupyter.widget-view+json": {
       "model_id": "a9b3e53c3b3d44d6855943bb9da45544",
       "version_major": 2,
       "version_minor": 0
      },
      "text/plain": [
       "VBox()"
      ]
     },
     "metadata": {},
     "output_type": "display_data"
    },
    {
     "data": {
      "application/vnd.jupyter.widget-view+json": {
       "model_id": "",
       "version_major": 2,
       "version_minor": 0
      },
      "text/plain": [
       "FloatProgress(value=0.0, bar_style='info', description='Progress:', layout=Layout(height='25px', width='50%'),…"
      ]
     },
     "metadata": {},
     "output_type": "display_data"
    }
   ],
   "source": [
    "nonPostersPercentage = (totalUsers - usersPostedCount) / totalUsers * 100"
   ]
  },
  {
   "cell_type": "code",
   "execution_count": 72,
   "id": "11e7d5bf-00b7-4978-bdc8-6efa51beb2f7",
   "metadata": {
    "execution": {
     "iopub.execute_input": "2023-01-30T22:55:29.446545Z",
     "iopub.status.busy": "2023-01-30T22:55:29.446283Z",
     "iopub.status.idle": "2023-01-30T22:55:29.504571Z",
     "shell.execute_reply": "2023-01-30T22:55:29.503931Z",
     "shell.execute_reply.started": "2023-01-30T22:55:29.446509Z"
    },
    "tags": []
   },
   "outputs": [
    {
     "data": {
      "application/vnd.jupyter.widget-view+json": {
       "model_id": "56760edd86a74e8480cc11275bf590f9",
       "version_major": 2,
       "version_minor": 0
      },
      "text/plain": [
       "VBox()"
      ]
     },
     "metadata": {},
     "output_type": "display_data"
    },
    {
     "data": {
      "application/vnd.jupyter.widget-view+json": {
       "model_id": "",
       "version_major": 2,
       "version_minor": 0
      },
      "text/plain": [
       "FloatProgress(value=0.0, bar_style='info', description='Progress:', layout=Layout(height='25px', width='50%'),…"
      ]
     },
     "metadata": {},
     "output_type": "display_data"
    },
    {
     "name": "stdout",
     "output_type": "stream",
     "text": [
      "86.79% of users have never posted."
     ]
    }
   ],
   "source": [
    "print(f'{nonPostersPercentage:.2f}% of users have never posted.')"
   ]
  },
  {
   "cell_type": "code",
   "execution_count": null,
   "id": "248913b5-5ca9-451a-81e8-80f0398c3861",
   "metadata": {},
   "outputs": [],
   "source": []
  },
  {
   "cell_type": "markdown",
   "id": "47822ec3-65e9-4c51-a520-6acb3c534a2e",
   "metadata": {
    "tags": []
   },
   "source": [
    "# Mean time from post creation to an accepted answer"
   ]
  },
  {
   "cell_type": "code",
   "execution_count": 73,
   "id": "17b95f6b-dc9a-4234-9158-ca7ce6852011",
   "metadata": {
    "execution": {
     "iopub.execute_input": "2023-01-30T22:55:29.505606Z",
     "iopub.status.busy": "2023-01-30T22:55:29.505432Z",
     "iopub.status.idle": "2023-01-30T22:55:29.775005Z",
     "shell.execute_reply": "2023-01-30T22:55:29.774376Z",
     "shell.execute_reply.started": "2023-01-30T22:55:29.505584Z"
    },
    "tags": []
   },
   "outputs": [
    {
     "data": {
      "application/vnd.jupyter.widget-view+json": {
       "model_id": "73d3f01259e34754b6b18fefde299c8e",
       "version_major": 2,
       "version_minor": 0
      },
      "text/plain": [
       "VBox()"
      ]
     },
     "metadata": {},
     "output_type": "display_data"
    },
    {
     "data": {
      "application/vnd.jupyter.widget-view+json": {
       "model_id": "",
       "version_major": 2,
       "version_minor": 0
      },
      "text/plain": [
       "FloatProgress(value=0.0, bar_style='info', description='Progress:', layout=Layout(height='25px', width='50%'),…"
      ]
     },
     "metadata": {},
     "output_type": "display_data"
    }
   ],
   "source": [
    "poststWithAccAnsw = dfPosts.where((F.col('PostTypeID') == 1) & F.col('AcceptedAnswerID').isNotNull()).alias('posts1')\\\n",
    "                            .join(dfPosts.alias('posts2'), F.col('posts1.AcceptedAnswerID') == F.col('posts2.ID'), 'inner')\\\n",
    "                            .select(F.col('posts1.ID'), F.col('posts1.CreationDate').alias('PostCreationDate'),\\\n",
    "                                    F.col('posts1.AcceptedAnswerID'), F.col('posts2.CreationDate').alias('AcceptedAnswerDate'))\\\n",
    "                            .withColumn('TimeDifference', F.unix_timestamp(F.col('AcceptedAnswerDate')) - F.unix_timestamp(F.col('PostCreationDate')))"
   ]
  },
  {
   "cell_type": "code",
   "execution_count": 74,
   "id": "387768c5-3596-4572-b4ec-b7cb2f1ff078",
   "metadata": {
    "execution": {
     "iopub.execute_input": "2023-01-30T22:55:29.776361Z",
     "iopub.status.busy": "2023-01-30T22:55:29.776097Z",
     "iopub.status.idle": "2023-01-30T22:55:31.203388Z",
     "shell.execute_reply": "2023-01-30T22:55:31.119795Z",
     "shell.execute_reply.started": "2023-01-30T22:55:29.776323Z"
    },
    "tags": []
   },
   "outputs": [
    {
     "data": {
      "application/vnd.jupyter.widget-view+json": {
       "model_id": "5dec0b4c49f242e188e599e31af2a88e",
       "version_major": 2,
       "version_minor": 0
      },
      "text/plain": [
       "VBox()"
      ]
     },
     "metadata": {},
     "output_type": "display_data"
    },
    {
     "data": {
      "application/vnd.jupyter.widget-view+json": {
       "model_id": "",
       "version_major": 2,
       "version_minor": 0
      },
      "text/plain": [
       "FloatProgress(value=0.0, bar_style='info', description='Progress:', layout=Layout(height='25px', width='50%'),…"
      ]
     },
     "metadata": {},
     "output_type": "display_data"
    },
    {
     "name": "stdout",
     "output_type": "stream",
     "text": [
      "+-----------------------------+----------------------------+-------------------------------+------------------------------+\n",
      "|Mean time difference in hours|Mean time difference in days|Median time difference in hours|Median time difference in days|\n",
      "+-----------------------------+----------------------------+-------------------------------+------------------------------+\n",
      "|                       416.83|                       17.37|                           8.32|                          0.35|\n",
      "+-----------------------------+----------------------------+-------------------------------+------------------------------+"
     ]
    }
   ],
   "source": [
    "timeStats = poststWithAccAnsw.agg(F.round(F.mean('TimeDifference')/3600, 2).alias('Mean time difference in hours'),\\\n",
    "                                 F.round(F.mean('TimeDifference')/86400, 2).alias('Mean time difference in days'),\\\n",
    "                                 F.round(F.expr('percentile_approx(TimeDifference, 0.5)')/3600, 2).alias('Median time difference in hours'),\\\n",
    "                                 F.round(F.expr('percentile_approx(TimeDifference, 0.5)')/86400, 2).alias('Median time difference in days'))\n",
    "timeStats.show()"
   ]
  },
  {
   "cell_type": "code",
   "execution_count": 75,
   "id": "804ab403-0859-4fae-8045-bd760e39cb37",
   "metadata": {
    "execution": {
     "iopub.execute_input": "2023-01-30T22:55:31.216364Z",
     "iopub.status.busy": "2023-01-30T22:55:31.215048Z",
     "iopub.status.idle": "2023-01-30T22:55:32.885310Z",
     "shell.execute_reply": "2023-01-30T22:55:32.884140Z",
     "shell.execute_reply.started": "2023-01-30T22:55:31.216337Z"
    },
    "tags": []
   },
   "outputs": [
    {
     "data": {
      "application/vnd.jupyter.widget-view+json": {
       "model_id": "6c29b40703e54f69845f60c5befba013",
       "version_major": 2,
       "version_minor": 0
      },
      "text/plain": [
       "VBox()"
      ]
     },
     "metadata": {},
     "output_type": "display_data"
    },
    {
     "data": {
      "application/vnd.jupyter.widget-view+json": {
       "model_id": "",
       "version_major": 2,
       "version_minor": 0
      },
      "text/plain": [
       "FloatProgress(value=0.0, bar_style='info', description='Progress:', layout=Layout(height='25px', width='50%'),…"
      ]
     },
     "metadata": {},
     "output_type": "display_data"
    }
   ],
   "source": [
    "accAnswPD = poststWithAccAnsw.toPandas()"
   ]
  },
  {
   "cell_type": "code",
   "execution_count": 76,
   "id": "445b434e-00da-4e93-9f62-e1dd39edd3ac",
   "metadata": {
    "execution": {
     "iopub.execute_input": "2023-01-30T22:55:32.886362Z",
     "iopub.status.busy": "2023-01-30T22:55:32.886180Z",
     "iopub.status.idle": "2023-01-30T22:55:32.975346Z",
     "shell.execute_reply": "2023-01-30T22:55:32.970456Z",
     "shell.execute_reply.started": "2023-01-30T22:55:32.886340Z"
    },
    "tags": []
   },
   "outputs": [
    {
     "data": {
      "application/vnd.jupyter.widget-view+json": {
       "model_id": "4537f709ab8541368b9ee2b76c72a7ba",
       "version_major": 2,
       "version_minor": 0
      },
      "text/plain": [
       "VBox()"
      ]
     },
     "metadata": {},
     "output_type": "display_data"
    },
    {
     "data": {
      "application/vnd.jupyter.widget-view+json": {
       "model_id": "",
       "version_major": 2,
       "version_minor": 0
      },
      "text/plain": [
       "FloatProgress(value=0.0, bar_style='info', description='Progress:', layout=Layout(height='25px', width='50%'),…"
      ]
     },
     "metadata": {},
     "output_type": "display_data"
    }
   ],
   "source": [
    "accAnswPD['TimeDifference'] = accAnswPD['TimeDifference'] / 86400"
   ]
  },
  {
   "cell_type": "code",
   "execution_count": 77,
   "id": "37199d06-cf70-4c79-889a-608d323aa8c4",
   "metadata": {
    "execution": {
     "iopub.execute_input": "2023-01-30T22:55:32.983543Z",
     "iopub.status.busy": "2023-01-30T22:55:32.977391Z",
     "iopub.status.idle": "2023-01-30T22:55:33.786908Z",
     "shell.execute_reply": "2023-01-30T22:55:33.786046Z",
     "shell.execute_reply.started": "2023-01-30T22:55:32.983506Z"
    },
    "tags": []
   },
   "outputs": [
    {
     "data": {
      "application/vnd.jupyter.widget-view+json": {
       "model_id": "820c13b2dc8b4f7ba10d5db58cc6fa7d",
       "version_major": 2,
       "version_minor": 0
      },
      "text/plain": [
       "VBox()"
      ]
     },
     "metadata": {},
     "output_type": "display_data"
    },
    {
     "data": {
      "application/vnd.jupyter.widget-view+json": {
       "model_id": "",
       "version_major": 2,
       "version_minor": 0
      },
      "text/plain": [
       "FloatProgress(value=0.0, bar_style='info', description='Progress:', layout=Layout(height='25px', width='50%'),…"
      ]
     },
     "metadata": {},
     "output_type": "display_data"
    },
    {
     "data": {
      "image/png": "[encoded data removed]",
      "text/plain": [
       "<IPython.core.display.Image object>"
      ]
     },
     "metadata": {},
     "output_type": "display_data"
    }
   ],
   "source": [
    "accAnswPD.hist(column='TimeDifference', bins=100, figsize=(10,7))\n",
    "plt.xlabel('Roznica w czasie w dniach')\n",
    "plt.ylabel('Liczba postow')\n",
    "plt.title('Rozklad roznicy w czasie miedzy publikacja posta, \\na pojawieniem sie zaakceptowanej odpowiedzi')\n",
    "plt.semilogy()\n",
    "%matplot plt"
   ]
  },
  {
   "cell_type": "code",
   "execution_count": 78,
   "id": "027ff039-d8bb-48bd-bcd7-20bc07aa649e",
   "metadata": {
    "execution": {
     "iopub.execute_input": "2023-01-30T22:55:33.788526Z",
     "iopub.status.busy": "2023-01-30T22:55:33.788232Z",
     "iopub.status.idle": "2023-01-30T22:55:33.881739Z",
     "shell.execute_reply": "2023-01-30T22:55:33.880730Z",
     "shell.execute_reply.started": "2023-01-30T22:55:33.788479Z"
    },
    "tags": []
   },
   "outputs": [
    {
     "data": {
      "application/vnd.jupyter.widget-view+json": {
       "model_id": "2a3f4bb16e8445d78f0a78d18260f83f",
       "version_major": 2,
       "version_minor": 0
      },
      "text/plain": [
       "VBox()"
      ]
     },
     "metadata": {},
     "output_type": "display_data"
    },
    {
     "data": {
      "application/vnd.jupyter.widget-view+json": {
       "model_id": "",
       "version_major": 2,
       "version_minor": 0
      },
      "text/plain": [
       "FloatProgress(value=0.0, bar_style='info', description='Progress:', layout=Layout(height='25px', width='50%'),…"
      ]
     },
     "metadata": {},
     "output_type": "display_data"
    }
   ],
   "source": [
    "accAnswPD2 = accAnswPD[accAnswPD['TimeDifference'] <= 50]"
   ]
  },
  {
   "cell_type": "code",
   "execution_count": 79,
   "id": "3a3e3232-7eed-430b-a604-b11500a2ba7a",
   "metadata": {
    "execution": {
     "iopub.execute_input": "2023-01-30T22:55:33.883268Z",
     "iopub.status.busy": "2023-01-30T22:55:33.883005Z",
     "iopub.status.idle": "2023-01-30T22:55:34.750599Z",
     "shell.execute_reply": "2023-01-30T22:55:34.748616Z",
     "shell.execute_reply.started": "2023-01-30T22:55:33.883231Z"
    },
    "tags": []
   },
   "outputs": [
    {
     "data": {
      "application/vnd.jupyter.widget-view+json": {
       "model_id": "0208e53f798c4df99d2c5b594d04bcf6",
       "version_major": 2,
       "version_minor": 0
      },
      "text/plain": [
       "VBox()"
      ]
     },
     "metadata": {},
     "output_type": "display_data"
    },
    {
     "data": {
      "application/vnd.jupyter.widget-view+json": {
       "model_id": "",
       "version_major": 2,
       "version_minor": 0
      },
      "text/plain": [
       "FloatProgress(value=0.0, bar_style='info', description='Progress:', layout=Layout(height='25px', width='50%'),…"
      ]
     },
     "metadata": {},
     "output_type": "display_data"
    },
    {
     "data": {
      "image/png": "[encoded data removed]",
      "text/plain": [
       "<IPython.core.display.Image object>"
      ]
     },
     "metadata": {},
     "output_type": "display_data"
    }
   ],
   "source": [
    "accAnswPD2.hist(column='TimeDifference', bins=50, figsize=(10,7))\n",
    "plt.xlabel('Roznica w czasie w dniach')\n",
    "plt.ylabel('Liczba postow')\n",
    "plt.title('Rozklad roznicy w czasie miedzy publikacja posta, \\na pojawieniem sie zaakceptowanej odpowiedzi\\n(roznica w czasie ograniczona do 50 dni)')\n",
    "plt.semilogy()\n",
    "%matplot plt"
   ]
  },
  {
   "cell_type": "code",
   "execution_count": null,
   "id": "b70cb34a-d62d-4c68-b615-f74bec16e8f4",
   "metadata": {},
   "outputs": [],
   "source": []
  }
 ],
 "metadata": {
  "kernelspec": {
   "display_name": "PySpark",
   "language": "python",
   "name": "pysparkkernel"
  },
  "language_info": {
   "codemirror_mode": {
    "name": "python",
    "version": 3
   },
   "file_extension": ".py",
   "mimetype": "text/x-python",
   "name": "pyspark",
   "pygments_lexer": "python3"
  },
  "toc-autonumbering": false,
  "toc-showmarkdowntxt": true
 },
 "nbformat": 4,
 "nbformat_minor": 5
}
